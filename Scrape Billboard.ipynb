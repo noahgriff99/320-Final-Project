{
 "cells": [
  {
   "cell_type": "code",
   "execution_count": 15,
   "metadata": {},
   "outputs": [],
   "source": [
    "from bs4 import BeautifulSoup as soup\n",
    "from urllib.request import urlopen as uReq\n",
    "from urllib.request import Request, urlopen\n",
    "\n",
    "\n",
    "# class AppURLopener(urllib.request.FancyURLopener):\n",
    "#     version = \"Mozilla/5.0\"\n",
    "\n",
    "# opener = AppURLopener()\n",
    "# page = opener.open('https://www.billboard.com/charts/year-end/2019/hot-100-songs')\n",
    "\n",
    "\n",
    "page = Request(\"https://www.billboard.com/charts/year-end/2019/hot-100-songs\",headers={'User-Agent': 'Mozilla/5.0'})\n",
    "\n",
    "html = urlopen(page).read()\n",
    "page_soup = soup(html,\"html.parser\")\n",
    "\n",
    "#splits the page into the 100 artists\n",
    "containers = page_soup.main.findAll(\"div\",{\"class\":\"chart-row__container\"})\n",
    "\n",
    "print(len)\n",
    "\n",
    "#iterates through the 100 artists\n",
    "for container in containers:\n",
    "\n",
    "    print(container.contents[1].text.strip())"
   ]
  },
  {
   "cell_type": "code",
   "execution_count": null,
   "metadata": {},
   "outputs": [],
   "source": []
  },
  {
   "cell_type": "code",
   "execution_count": null,
   "metadata": {},
   "outputs": [],
   "source": []
  }
 ],
 "metadata": {
  "kernelspec": {
   "display_name": "Python 3",
   "language": "python",
   "name": "python3"
  },
  "language_info": {
   "codemirror_mode": {
    "name": "ipython",
    "version": 3
   },
   "file_extension": ".py",
   "mimetype": "text/x-python",
   "name": "python",
   "nbconvert_exporter": "python",
   "pygments_lexer": "ipython3",
   "version": "3.6.4"
  }
 },
 "nbformat": 4,
 "nbformat_minor": 2
}
