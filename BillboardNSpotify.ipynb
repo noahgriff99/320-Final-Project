{
 "cells": [
  {
   "cell_type": "markdown",
   "metadata": {},
   "source": [
    "<h1><center>The Evolution of Popular Music over Recent Years</center></h1>\n",
    "<h3><center>By Noah Griff, Timmy Trapaidze, and Christian Tonti</center></h3>\n",
    "\n",
    "![Billboard Hot 100 1988](https://media.npr.org/assets/img/2013/08/01/1988---billboard-hot-100-singles-chart_wide-1181692be74853bd0bf8fa888ae2733ae79ac585.jpg?s=1400)\n",
    "## Table of Contents\n",
    "1. [Introduction](#introduction)\n",
    "    - [Useful Resources](#resources)\n",
    "2. [Data Collection and Cleaning](#collection)\n",
    "3. [Analysis](#analysis)\n",
    "\n",
    "\n",
    "## Introduction<a name='introduction'></a>\n",
    "Over the years, music has become an increasingly large part of our daily lives. With each technological development, from public radio and cassette tapes to music streaming services and fully wireless earbuds, we have had more and more ways to listen to the songs we love. While a form of cultural and personal expression, popular music also provides a common ground on which people can connect. When a song comes on at an event or party that everybody knows the words to, people sing along, have fun, and have a great time. So we started thinking: while music-listening technology has changed over the years, how has what the general population considers enjoyable evolved? What attributes of a song make it popular, and is it that different a couple decades ago?  \n",
    "  \n",
    "Luckily for us, a company has been keeping track of the most popular songs since the latter half of the 20th century. Starting in August of 1958, Billboard has been publishing the Hot 100 songs every week, year and decade, allowing us to get a snapshot of what popular music has looked like over time.  \n",
    "  \n",
    "In this project, we will be using Billboard's yearly Hot 100 charts from 1971 to present along with Spotify's Web API in order to conduct analysis on the evolution of popular music in recent years. Spotify's API has an endpoint called audio-analysis, which returns analytical information about a song, such as its tempo, key, danceability, and energy. Using all of this information, we will analyze if any of these features have changed over time, as well as if there is a correlation between them and the song's rank within the chart.\n",
    "\n",
    "### Useful Resources<a name='resources'></a>\n",
    "Here is a list of some useful, helpful, or interesting resources related to our work:\n",
    "- [The creation, rise, and rule of Billboard's Hot 100 - NPR](https://www.npr.org/sections/therecord/2013/08/16/207879695/how-the-hot-100-became-americas-hit-barometer)\n",
    "- [Why music is getting louder - Curiosity.com](https://curiosity.com/topics/why-music-is-getting-louder-curiosity/)\n",
    "- [Research paper on the evolution of popular music](https://doi.org/10.1098/rsos.150081)\n",
    "- [Spotify Web API Reference](https://developer.spotify.com/documentation/web-api/reference/)\n",
    "    - [Audio analysis endpoint](https://developer.spotify.com/documentation/web-api/reference/tracks/get-audio-analysis/)\n",
    "--------\n",
    "For this project, we will be using Python 3 along with the following libraries:\n",
    "- [spotipy](https://spotipy.readthedocs.io/en/latest/#) to efficiently query the Spotify Web API with Python\n",
    "- [urllib.request](https://docs.python.org/3/library/urllib.request.html) to get the HTML from the websites which have the Billboard Hot 100 charts\n",
    "- [BeautifulSoup](https://www.crummy.com/software/BeautifulSoup/bs4/doc/) to help us scrape the Billboard Hot 100 charts by reading through and analyzing the HTML files\n",
    "- [pandas](https://pandas.pydata.org/pandas-docs/stable/) to store, organize, and manipulate all of our data using powerful DataFrame objects\n",
    "- [numpy](https://docs.scipy.org/doc/numpy/reference/index.html) to add NaN values as well as some extra functions\n",
    "- [seaborn](https://seaborn.pydata.org/) to easily and beautifully visualize our findings\n",
    "- [matplotlib.pyplot](https://matplotlib.org/3.1.1/api/_as_gen/matplotlib.pyplot.html) to further manipulate the appearance of our graphs\n",
    "  \n",
    "We begin by importing these libraries here:"
   ]
  },
  {
   "cell_type": "code",
   "execution_count": 1,
   "metadata": {},
   "outputs": [
    {
     "name": "stdout",
     "output_type": "stream",
     "text": [
      "Requirement already satisfied: spotipy in /opt/conda/lib/python3.7/site-packages (2.4.4)\n",
      "Requirement already satisfied: requests>=1.0 in /opt/conda/lib/python3.7/site-packages (from spotipy) (2.22.0)\n",
      "Requirement already satisfied: chardet<3.1.0,>=3.0.2 in /opt/conda/lib/python3.7/site-packages (from requests>=1.0->spotipy) (3.0.4)\n",
      "Requirement already satisfied: certifi>=2017.4.17 in /opt/conda/lib/python3.7/site-packages (from requests>=1.0->spotipy) (2019.6.16)\n",
      "Requirement already satisfied: idna<2.9,>=2.5 in /opt/conda/lib/python3.7/site-packages (from requests>=1.0->spotipy) (2.8)\n",
      "Requirement already satisfied: urllib3!=1.25.0,!=1.25.1,<1.26,>=1.21.1 in /opt/conda/lib/python3.7/site-packages (from requests>=1.0->spotipy) (1.25.3)\n"
     ]
    }
   ],
   "source": [
    "# install spotipy if not installed\n",
    "!pip install spotipy\n",
    "# imports\n",
    "from bs4 import BeautifulSoup as soup\n",
    "from urllib.request import urlopen as uReq\n",
    "from urllib.request import Request, urlopen\n",
    "import pandas as pd\n",
    "import numpy as np\n",
    "import spotipy\n",
    "import spotipy.util as util\n",
    "from spotipy.oauth2 import SpotifyClientCredentials\n",
    "import seaborn as sns\n",
    "import matplotlib.pyplot as plt\n",
    "from IPython.display import Image\n",
    "import time"
   ]
  },
  {
   "cell_type": "markdown",
   "metadata": {},
   "source": [
    "## Data Collection and Cleaning<a name='collection'></a>\n",
    "The first thing we must do is to obtain the data we wish to analyze. This includes getting the top 100 songs from every year, finding those songs on Spotify, and then obtaining the audio analysis for each song.  \n",
    "  \n",
    "Here, we use urllib.request, and pandas.read_html in order to get the Billboard Hot 100 songs for each year. For each year between 1970 and 2020, we query Wikipedia (Billboard's site had query limits and was missing data from 1992-2006) for the chart and read the HTML table into a pandas DataFrame. We then append that year's list to a larger frame containing every song from each year:"
   ]
  },
  {
   "cell_type": "code",
   "execution_count": 2,
   "metadata": {},
   "outputs": [
    {
     "name": "stderr",
     "output_type": "stream",
     "text": [
      "/opt/conda/lib/python3.7/site-packages/pandas/core/frame.py:7116: FutureWarning: Sorting because non-concatenation axis is not aligned. A future version\n",
      "of pandas will change to not sort by default.\n",
      "\n",
      "To accept the future behavior, pass 'sort=False'.\n",
      "\n",
      "To retain the current behavior and silence the warning, pass 'sort=True'.\n",
      "\n",
      "  sort=sort,\n"
     ]
    }
   ],
   "source": [
    "# perform an initial read for 1970 to start off the larger dataframe\n",
    "page = Request(\"https://en.wikipedia.org/wiki/Billboard_Year-End_Hot_100_singles_of_1970\",headers={'User-Agent': 'Mozilla/5.0'})\n",
    "html = urlopen(page).read()\n",
    "wiki = pd.read_html(html)[0]\n",
    "\n",
    "for i in range(1971,2020):\n",
    "    #2012 and 2013 just did not want to be scrapable\n",
    "    if(i != 2012 and i != 2013):\n",
    "        # create list for year column in the dataframe\n",
    "        year = [i] * 100\n",
    "        # open and read the page\n",
    "        page = Request(\"https://en.wikipedia.org/wiki/Billboard_Year-End_Hot_100_singles_of_\"+str(i),headers={'User-Agent': 'Mozilla/5.0'})\n",
    "        html = urlopen(page).read()\n",
    "        # read in the table of songs\n",
    "        cur = pd.read_html(html)[0]\n",
    "        # add year column\n",
    "        cur['year'] = year\n",
    "        # append to larger dataframe\n",
    "        wiki = wiki.append(cur,ignore_index=True)"
   ]
  },
  {
   "cell_type": "code",
   "execution_count": 3,
   "metadata": {},
   "outputs": [
    {
     "name": "stdout",
     "output_type": "stream",
     "text": [
      "<class 'pandas.core.frame.DataFrame'>\n",
      "RangeIndex: 4701 entries, 0 to 4700\n",
      "Data columns (total 7 columns):\n",
      "0            0 non-null float64\n",
      "1            1 non-null object\n",
      "Artist(s)    4700 non-null object\n",
      "No.          3200 non-null float64\n",
      "Title        4700 non-null object\n",
      "year         4700 non-null float64\n",
      "№            1500 non-null float64\n",
      "dtypes: float64(4), object(3)\n",
      "memory usage: 257.2+ KB\n"
     ]
    }
   ],
   "source": [
    "wiki.info()"
   ]
  },
  {
   "cell_type": "markdown",
   "metadata": {},
   "source": [
    "Cool! We now have 4700 songs in our DataFrame. But as you can see, we have two redundant/empty columns labeled 0 and 1. On top of this, we also see that some years use 'No.' for the rank, but others use the numero symbol (№). If we take a look at the Wikipedia pages, we see that in 2002, № replaced No. But these both mean rank, so we will combine these into a single column:"
   ]
  },
  {
   "cell_type": "code",
   "execution_count": 4,
   "metadata": {},
   "outputs": [
    {
     "name": "stdout",
     "output_type": "stream",
     "text": [
      "<class 'pandas.core.frame.DataFrame'>\n",
      "Int64Index: 4700 entries, 1 to 4700\n",
      "Data columns (total 6 columns):\n",
      "0         4700 non-null float64\n",
      "1         4700 non-null object\n",
      "artist    4700 non-null object\n",
      "song      4700 non-null object\n",
      "year      4700 non-null int64\n",
      "rank      4700 non-null int64\n",
      "dtypes: float64(1), int64(2), object(3)\n",
      "memory usage: 257.0+ KB\n"
     ]
    }
   ],
   "source": [
    "# create empty list for rank column\n",
    "rank = []\n",
    "# replace NaNs with 0\n",
    "wiki = wiki.fillna(0)\n",
    "\n",
    "# append the rank for the year\n",
    "for i,row in wiki.iterrows():\n",
    "    # since one of these will be 0, adding them together produces the real rank\n",
    "    no = row['№']\n",
    "    num = row['No.'] \n",
    "    rank.append(no + num)\n",
    "\n",
    "# add the rank column and drop the previous ones\n",
    "wiki['rank'] = rank\n",
    "wiki = wiki.drop(columns=['No.','№'])\n",
    "# delete empty row from the HTML read-in\n",
    "wiki = wiki.drop(wiki.index[0])\n",
    "# set the type of year and rank to integers\n",
    "wiki['year'] = wiki['year'].astype('int64')\n",
    "wiki['rank'] = wiki['rank'].astype('int64')\n",
    "# rename some columns to be easier to use\n",
    "wiki = wiki.rename(columns={\"Artist(s)\": \"artist\", \"Title\":\"song\"})\n",
    "wiki.info()"
   ]
  },
  {
   "cell_type": "markdown",
   "metadata": {},
   "source": [
    "Looking good! But we forgot to drop those first two empty columns, so we'll do that now:"
   ]
  },
  {
   "cell_type": "code",
   "execution_count": 5,
   "metadata": {},
   "outputs": [
    {
     "name": "stdout",
     "output_type": "stream",
     "text": [
      "<class 'pandas.core.frame.DataFrame'>\n",
      "Int64Index: 4700 entries, 1 to 4700\n",
      "Data columns (total 4 columns):\n",
      "artist    4700 non-null object\n",
      "song      4700 non-null object\n",
      "year      4700 non-null int64\n",
      "rank      4700 non-null int64\n",
      "dtypes: int64(2), object(2)\n",
      "memory usage: 183.6+ KB\n"
     ]
    }
   ],
   "source": [
    "wiki = wiki.drop(columns=[0,1], axis = 1)\n",
    "wiki.info()"
   ]
  },
  {
   "cell_type": "markdown",
   "metadata": {},
   "source": [
    "Perfect! Let's take a look at some of the data:"
   ]
  },
  {
   "cell_type": "code",
   "execution_count": 6,
   "metadata": {},
   "outputs": [
    {
     "data": {
      "text/html": [
       "<div>\n",
       "<style scoped>\n",
       "    .dataframe tbody tr th:only-of-type {\n",
       "        vertical-align: middle;\n",
       "    }\n",
       "\n",
       "    .dataframe tbody tr th {\n",
       "        vertical-align: top;\n",
       "    }\n",
       "\n",
       "    .dataframe thead th {\n",
       "        text-align: right;\n",
       "    }\n",
       "</style>\n",
       "<table border=\"1\" class=\"dataframe\">\n",
       "  <thead>\n",
       "    <tr style=\"text-align: right;\">\n",
       "      <th></th>\n",
       "      <th>artist</th>\n",
       "      <th>song</th>\n",
       "      <th>year</th>\n",
       "      <th>rank</th>\n",
       "    </tr>\n",
       "  </thead>\n",
       "  <tbody>\n",
       "    <tr>\n",
       "      <th>1</th>\n",
       "      <td>Three Dog Night</td>\n",
       "      <td>\"Joy to the World\"</td>\n",
       "      <td>1971</td>\n",
       "      <td>1</td>\n",
       "    </tr>\n",
       "    <tr>\n",
       "      <th>2</th>\n",
       "      <td>Rod Stewart</td>\n",
       "      <td>\"Maggie May\"/\"Reason to Believe\"</td>\n",
       "      <td>1971</td>\n",
       "      <td>2</td>\n",
       "    </tr>\n",
       "    <tr>\n",
       "      <th>3</th>\n",
       "      <td>Carole King</td>\n",
       "      <td>\"It's Too Late\"/\"I Feel the Earth Move\"</td>\n",
       "      <td>1971</td>\n",
       "      <td>3</td>\n",
       "    </tr>\n",
       "    <tr>\n",
       "      <th>4</th>\n",
       "      <td>The Osmonds</td>\n",
       "      <td>\"One Bad Apple\"</td>\n",
       "      <td>1971</td>\n",
       "      <td>4</td>\n",
       "    </tr>\n",
       "    <tr>\n",
       "      <th>5</th>\n",
       "      <td>Bee Gees</td>\n",
       "      <td>\"How Can You Mend a Broken Heart\"</td>\n",
       "      <td>1971</td>\n",
       "      <td>5</td>\n",
       "    </tr>\n",
       "  </tbody>\n",
       "</table>\n",
       "</div>"
      ],
      "text/plain": [
       "            artist                                     song  year  rank\n",
       "1  Three Dog Night                       \"Joy to the World\"  1971     1\n",
       "2      Rod Stewart         \"Maggie May\"/\"Reason to Believe\"  1971     2\n",
       "3      Carole King  \"It's Too Late\"/\"I Feel the Earth Move\"  1971     3\n",
       "4      The Osmonds                          \"One Bad Apple\"  1971     4\n",
       "5         Bee Gees        \"How Can You Mend a Broken Heart\"  1971     5"
      ]
     },
     "execution_count": 6,
     "metadata": {},
     "output_type": "execute_result"
    }
   ],
   "source": [
    "data = wiki.loc[wiki['year'] > 1970]\n",
    "data.head()"
   ]
  },
  {
   "cell_type": "markdown",
   "metadata": {},
   "source": [
    "Now it's time for the second part of data collection -- finding the songs on Spotify. For this, we will be using spotipy, a python libary which wraps the Spotify Web API for easier access. To start, we must initialize a connection:"
   ]
  },
  {
   "cell_type": "code",
   "execution_count": 7,
   "metadata": {},
   "outputs": [],
   "source": [
    "# generated authorization tokens\n",
    "SPOTIPY_CLIENT_ID='dfc90bae743943689c070c2f0b7fd7e0'\n",
    "SPOTIPY_CLIENT_SECRET='477f42668a624f6e875a5399643b8c00'\n",
    "\n",
    "# passes in the credentials for the cleint credential flow\n",
    "client_credentials_manager = SpotifyClientCredentials(SPOTIPY_CLIENT_ID,SPOTIPY_CLIENT_SECRET)\n",
    "sp = spotipy.Spotify(client_credentials_manager=client_credentials_manager)"
   ]
  },
  {
   "cell_type": "markdown",
   "metadata": {},
   "source": [
    "Now we can search for our songs using functions from spotipy. The function we will use is sp.search, which is similar to typing into the search bar in the Spotify app. We specify that we want tracks, and store the dictionary response into a results list."
   ]
  },
  {
   "cell_type": "code",
   "execution_count": 8,
   "metadata": {},
   "outputs": [],
   "source": [
    "# empty list for storing responses\n",
    "results = []\n",
    "# search for each song name in the dataframe\n",
    "for index, row in data.iterrows():\n",
    "    results.append(sp.search(q=row.song,type='track'))"
   ]
  },
  {
   "cell_type": "markdown",
   "metadata": {},
   "source": [
    "We have now stored the search results for each song. Now, we must query the Spotify Web API for the audio analysis of each song. To do this, we use the spotipy audio_features function. Note that if the song cannot be found on Spotify, the entire row is dropped from the data."
   ]
  },
  {
   "cell_type": "code",
   "execution_count": 9,
   "metadata": {},
   "outputs": [
    {
     "name": "stdout",
     "output_type": "stream",
     "text": [
      "retrying ...1secs\n",
      "retrying ...1secs\n",
      "retrying ...1secs\n",
      "retrying ...1secs\n",
      "retrying ...1secs\n",
      "retrying ...1secs\n"
     ]
    }
   ],
   "source": [
    "# index for dropping and empty list for storing response dictionaries\n",
    "index = 0\n",
    "analyses = []\n",
    "# go through each search query result\n",
    "for result in results:\n",
    "    # if the items key doesnt exist, bad data -- drop row and continue to next row\n",
    "    if 'items' in result['tracks']:     \n",
    "        # if the dictionary length is 0, drop row and continue\n",
    "        if len(result['tracks']['items']) > 0:\n",
    "            # search for audio features of current song. pull the first result \n",
    "            analysis = sp.audio_features(result['tracks']['items'][0]['id'])\n",
    "            analyses.append(analysis)\n",
    "        else:\n",
    "            data.drop(index, inplace=True)\n",
    "            continue\n",
    "    else:\n",
    "        data.drop(index, inplace=True)\n",
    "        continue\n",
    "        \n",
    "    index += 1"
   ]
  },
  {
   "cell_type": "markdown",
   "metadata": {},
   "source": [
    "Now we will break down the each analysis into its components and store them as columns in the dataframe. Not only does each contain analysis of audio features, but also important information such as the track URI."
   ]
  },
  {
   "cell_type": "code",
   "execution_count": 10,
   "metadata": {},
   "outputs": [],
   "source": [
    "# empty lists for new columns\n",
    "danceability = []\n",
    "energy = []\n",
    "key = []\n",
    "loudness = []\n",
    "mode = []\n",
    "speechiness = []\n",
    "acousticness = []\n",
    "instrumentalness = []\n",
    "liveness = [] \n",
    "valence = [] \n",
    "tempo = [] \n",
    "type_feature = [] \n",
    "song_id = []\n",
    "uri = []\n",
    "track_href = []\n",
    "analysis_url = []\n",
    "duration_ms = []\n",
    "time_signature = []\n",
    "name = []\n",
    "\n",
    "# index for dropping\n",
    "index = 0\n",
    "\n",
    "for analysis in analyses:\n",
    "    # the audio features method returned a none type, drop the row\n",
    "    if analysis[0] is None:\n",
    "        data.drop(index, inplace=True)\n",
    "    else:\n",
    "        # append all the data to column lists\n",
    "        name.append(row.song)\n",
    "        danceability.append(analysis[0]['danceability'])\n",
    "        energy.append(analysis[0]['energy'])\n",
    "        key.append(analysis[0]['key'])\n",
    "        loudness.append(analysis[0]['loudness'])\n",
    "        mode.append(analysis[0]['mode'])\n",
    "        speechiness.append(analysis[0]['speechiness'])\n",
    "        acousticness.append(analysis[0]['acousticness'])\n",
    "        instrumentalness.append(analysis[0]['instrumentalness'])\n",
    "        liveness.append(analysis[0]['liveness'])\n",
    "        valence.append(analysis[0]['valence'])\n",
    "        tempo.append(analysis[0]['tempo'])\n",
    "        type_feature.append(analysis[0]['type'])\n",
    "        song_id.append(analysis[0]['id'])\n",
    "        uri.append(analysis[0]['uri'])\n",
    "        track_href.append(analysis[0]['track_href'])\n",
    "        analysis_url.append(analysis[0]['analysis_url'])\n",
    "        duration_ms.append(analysis[0]['duration_ms'])\n",
    "        time_signature.append(analysis[0]['time_signature'])  \n",
    "    index += 1\n",
    "\n",
    "# add all the new columns to the dataframe\n",
    "data['danceability'] = danceability\n",
    "data['energy'] = energy\n",
    "data['key'] = key\n",
    "data['loudness'] = loudness\n",
    "data['mode'] = mode\n",
    "data['speechiness'] = speechiness\n",
    "data['acousticness'] = acousticness\n",
    "data['instrumentalness'] = instrumentalness\n",
    "data['liveness'] = liveness\n",
    "data['valence'] = valence\n",
    "data['tempo'] = tempo\n",
    "data['type_feature'] = type_feature\n",
    "data['song_id'] = song_id\n",
    "data['uri'] = uri\n",
    "data['track_href'] = track_href\n",
    "data['analysis_url'] = analysis_url\n",
    "data['duration_ms'] = duration_ms\n",
    "data['time_signature'] = time_signature"
   ]
  },
  {
   "cell_type": "code",
   "execution_count": 11,
   "metadata": {
    "scrolled": true
   },
   "outputs": [
    {
     "data": {
      "text/html": [
       "<div>\n",
       "<style scoped>\n",
       "    .dataframe tbody tr th:only-of-type {\n",
       "        vertical-align: middle;\n",
       "    }\n",
       "\n",
       "    .dataframe tbody tr th {\n",
       "        vertical-align: top;\n",
       "    }\n",
       "\n",
       "    .dataframe thead th {\n",
       "        text-align: right;\n",
       "    }\n",
       "</style>\n",
       "<table border=\"1\" class=\"dataframe\">\n",
       "  <thead>\n",
       "    <tr style=\"text-align: right;\">\n",
       "      <th></th>\n",
       "      <th>artist</th>\n",
       "      <th>song</th>\n",
       "      <th>year</th>\n",
       "      <th>rank</th>\n",
       "      <th>danceability</th>\n",
       "      <th>energy</th>\n",
       "      <th>key</th>\n",
       "      <th>loudness</th>\n",
       "      <th>mode</th>\n",
       "      <th>speechiness</th>\n",
       "      <th>...</th>\n",
       "      <th>liveness</th>\n",
       "      <th>valence</th>\n",
       "      <th>tempo</th>\n",
       "      <th>type_feature</th>\n",
       "      <th>song_id</th>\n",
       "      <th>uri</th>\n",
       "      <th>track_href</th>\n",
       "      <th>analysis_url</th>\n",
       "      <th>duration_ms</th>\n",
       "      <th>time_signature</th>\n",
       "    </tr>\n",
       "  </thead>\n",
       "  <tbody>\n",
       "    <tr>\n",
       "      <th>1</th>\n",
       "      <td>Three Dog Night</td>\n",
       "      <td>\"Joy to the World\"</td>\n",
       "      <td>1971</td>\n",
       "      <td>1</td>\n",
       "      <td>0.553</td>\n",
       "      <td>0.337</td>\n",
       "      <td>10</td>\n",
       "      <td>-10.334</td>\n",
       "      <td>1</td>\n",
       "      <td>0.0300</td>\n",
       "      <td>...</td>\n",
       "      <td>0.1130</td>\n",
       "      <td>0.662</td>\n",
       "      <td>101.918</td>\n",
       "      <td>audio_features</td>\n",
       "      <td>1VuAamHM7P3VQQEXYGG3Uu</td>\n",
       "      <td>spotify:track:1VuAamHM7P3VQQEXYGG3Uu</td>\n",
       "      <td>https://api.spotify.com/v1/tracks/1VuAamHM7P3V...</td>\n",
       "      <td>https://api.spotify.com/v1/audio-analysis/1VuA...</td>\n",
       "      <td>84987</td>\n",
       "      <td>4</td>\n",
       "    </tr>\n",
       "    <tr>\n",
       "      <th>3</th>\n",
       "      <td>Carole King</td>\n",
       "      <td>\"It's Too Late\"/\"I Feel the Earth Move\"</td>\n",
       "      <td>1971</td>\n",
       "      <td>3</td>\n",
       "      <td>0.566</td>\n",
       "      <td>0.585</td>\n",
       "      <td>2</td>\n",
       "      <td>-8.733</td>\n",
       "      <td>1</td>\n",
       "      <td>0.0362</td>\n",
       "      <td>...</td>\n",
       "      <td>0.0911</td>\n",
       "      <td>0.567</td>\n",
       "      <td>129.475</td>\n",
       "      <td>audio_features</td>\n",
       "      <td>7hBTWJwdCkZt7IjUsENqmv</td>\n",
       "      <td>spotify:track:7hBTWJwdCkZt7IjUsENqmv</td>\n",
       "      <td>https://api.spotify.com/v1/tracks/7hBTWJwdCkZt...</td>\n",
       "      <td>https://api.spotify.com/v1/audio-analysis/7hBT...</td>\n",
       "      <td>350147</td>\n",
       "      <td>4</td>\n",
       "    </tr>\n",
       "    <tr>\n",
       "      <th>4</th>\n",
       "      <td>The Osmonds</td>\n",
       "      <td>\"One Bad Apple\"</td>\n",
       "      <td>1971</td>\n",
       "      <td>4</td>\n",
       "      <td>0.600</td>\n",
       "      <td>0.567</td>\n",
       "      <td>0</td>\n",
       "      <td>-7.163</td>\n",
       "      <td>1</td>\n",
       "      <td>0.0398</td>\n",
       "      <td>...</td>\n",
       "      <td>0.2130</td>\n",
       "      <td>0.920</td>\n",
       "      <td>101.041</td>\n",
       "      <td>audio_features</td>\n",
       "      <td>50UoJUrslRVqG0cg6uboyn</td>\n",
       "      <td>spotify:track:50UoJUrslRVqG0cg6uboyn</td>\n",
       "      <td>https://api.spotify.com/v1/tracks/50UoJUrslRVq...</td>\n",
       "      <td>https://api.spotify.com/v1/audio-analysis/50Uo...</td>\n",
       "      <td>164973</td>\n",
       "      <td>4</td>\n",
       "    </tr>\n",
       "    <tr>\n",
       "      <th>5</th>\n",
       "      <td>Bee Gees</td>\n",
       "      <td>\"How Can You Mend a Broken Heart\"</td>\n",
       "      <td>1971</td>\n",
       "      <td>5</td>\n",
       "      <td>0.458</td>\n",
       "      <td>0.421</td>\n",
       "      <td>4</td>\n",
       "      <td>-6.960</td>\n",
       "      <td>1</td>\n",
       "      <td>0.0403</td>\n",
       "      <td>...</td>\n",
       "      <td>0.0705</td>\n",
       "      <td>0.368</td>\n",
       "      <td>146.598</td>\n",
       "      <td>audio_features</td>\n",
       "      <td>6lUXneXZ9jc3HSMHgd8oqh</td>\n",
       "      <td>spotify:track:6lUXneXZ9jc3HSMHgd8oqh</td>\n",
       "      <td>https://api.spotify.com/v1/tracks/6lUXneXZ9jc3...</td>\n",
       "      <td>https://api.spotify.com/v1/audio-analysis/6lUX...</td>\n",
       "      <td>383503</td>\n",
       "      <td>3</td>\n",
       "    </tr>\n",
       "    <tr>\n",
       "      <th>6</th>\n",
       "      <td>Paul Revere &amp; the Raiders</td>\n",
       "      <td>\"Indian Reservation (The Lament of the Cheroke...</td>\n",
       "      <td>1971</td>\n",
       "      <td>6</td>\n",
       "      <td>0.639</td>\n",
       "      <td>0.385</td>\n",
       "      <td>2</td>\n",
       "      <td>-13.253</td>\n",
       "      <td>1</td>\n",
       "      <td>0.0759</td>\n",
       "      <td>...</td>\n",
       "      <td>0.0873</td>\n",
       "      <td>0.209</td>\n",
       "      <td>131.714</td>\n",
       "      <td>audio_features</td>\n",
       "      <td>3mDOHVY9MWZOTODSNF5GBj</td>\n",
       "      <td>spotify:track:3mDOHVY9MWZOTODSNF5GBj</td>\n",
       "      <td>https://api.spotify.com/v1/tracks/3mDOHVY9MWZO...</td>\n",
       "      <td>https://api.spotify.com/v1/audio-analysis/3mDO...</td>\n",
       "      <td>171933</td>\n",
       "      <td>4</td>\n",
       "    </tr>\n",
       "  </tbody>\n",
       "</table>\n",
       "<p>5 rows × 22 columns</p>\n",
       "</div>"
      ],
      "text/plain": [
       "                      artist  \\\n",
       "1            Three Dog Night   \n",
       "3                Carole King   \n",
       "4                The Osmonds   \n",
       "5                   Bee Gees   \n",
       "6  Paul Revere & the Raiders   \n",
       "\n",
       "                                                song  year  rank  \\\n",
       "1                                 \"Joy to the World\"  1971     1   \n",
       "3            \"It's Too Late\"/\"I Feel the Earth Move\"  1971     3   \n",
       "4                                    \"One Bad Apple\"  1971     4   \n",
       "5                  \"How Can You Mend a Broken Heart\"  1971     5   \n",
       "6  \"Indian Reservation (The Lament of the Cheroke...  1971     6   \n",
       "\n",
       "   danceability  energy  key  loudness  mode  speechiness  ...  liveness  \\\n",
       "1         0.553   0.337   10   -10.334     1       0.0300  ...    0.1130   \n",
       "3         0.566   0.585    2    -8.733     1       0.0362  ...    0.0911   \n",
       "4         0.600   0.567    0    -7.163     1       0.0398  ...    0.2130   \n",
       "5         0.458   0.421    4    -6.960     1       0.0403  ...    0.0705   \n",
       "6         0.639   0.385    2   -13.253     1       0.0759  ...    0.0873   \n",
       "\n",
       "   valence    tempo    type_feature                 song_id  \\\n",
       "1    0.662  101.918  audio_features  1VuAamHM7P3VQQEXYGG3Uu   \n",
       "3    0.567  129.475  audio_features  7hBTWJwdCkZt7IjUsENqmv   \n",
       "4    0.920  101.041  audio_features  50UoJUrslRVqG0cg6uboyn   \n",
       "5    0.368  146.598  audio_features  6lUXneXZ9jc3HSMHgd8oqh   \n",
       "6    0.209  131.714  audio_features  3mDOHVY9MWZOTODSNF5GBj   \n",
       "\n",
       "                                    uri  \\\n",
       "1  spotify:track:1VuAamHM7P3VQQEXYGG3Uu   \n",
       "3  spotify:track:7hBTWJwdCkZt7IjUsENqmv   \n",
       "4  spotify:track:50UoJUrslRVqG0cg6uboyn   \n",
       "5  spotify:track:6lUXneXZ9jc3HSMHgd8oqh   \n",
       "6  spotify:track:3mDOHVY9MWZOTODSNF5GBj   \n",
       "\n",
       "                                          track_href  \\\n",
       "1  https://api.spotify.com/v1/tracks/1VuAamHM7P3V...   \n",
       "3  https://api.spotify.com/v1/tracks/7hBTWJwdCkZt...   \n",
       "4  https://api.spotify.com/v1/tracks/50UoJUrslRVq...   \n",
       "5  https://api.spotify.com/v1/tracks/6lUXneXZ9jc3...   \n",
       "6  https://api.spotify.com/v1/tracks/3mDOHVY9MWZO...   \n",
       "\n",
       "                                        analysis_url duration_ms  \\\n",
       "1  https://api.spotify.com/v1/audio-analysis/1VuA...       84987   \n",
       "3  https://api.spotify.com/v1/audio-analysis/7hBT...      350147   \n",
       "4  https://api.spotify.com/v1/audio-analysis/50Uo...      164973   \n",
       "5  https://api.spotify.com/v1/audio-analysis/6lUX...      383503   \n",
       "6  https://api.spotify.com/v1/audio-analysis/3mDO...      171933   \n",
       "\n",
       "  time_signature  \n",
       "1              4  \n",
       "3              4  \n",
       "4              4  \n",
       "5              3  \n",
       "6              4  \n",
       "\n",
       "[5 rows x 22 columns]"
      ]
     },
     "execution_count": 11,
     "metadata": {},
     "output_type": "execute_result"
    }
   ],
   "source": [
    "data.head()"
   ]
  },
  {
   "cell_type": "markdown",
   "metadata": {},
   "source": [
    "Great! We are now done with the collection and cleaning of our data. We can now use our data in analysis without having to worry about inconsistencies or nonexistent values.\n",
    "\n",
    "## Analysis<a name='analysis'></a>"
   ]
  },
  {
   "cell_type": "code",
   "execution_count": 12,
   "metadata": {},
   "outputs": [
    {
     "data": {
      "text/plain": [
       "<matplotlib.axes._subplots.AxesSubplot at 0x7f74d377f3c8>"
      ]
     },
     "execution_count": 12,
     "metadata": {},
     "output_type": "execute_result"
    },
    {
     "data": {
      "image/png": "[encoded data removed]",
      "text/plain": [
       "<Figure size 432x288 with 1 Axes>"
      ]
     },
     "metadata": {
      "needs_background": "light"
     },
     "output_type": "display_data"
    }
   ],
   "source": [
    "sns.regplot(x=data['year'],y=data['duration_ms'])"
   ]
  },
  {
   "cell_type": "code",
   "execution_count": 13,
   "metadata": {},
   "outputs": [
    {
     "data": {
      "text/plain": [
       "<matplotlib.axes._subplots.AxesSubplot at 0x7f74d16655c0>"
      ]
     },
     "execution_count": 13,
     "metadata": {},
     "output_type": "execute_result"
    },
    {
     "data": {
      "image/png": "[encoded data removed]",
      "text/plain": [
       "<Figure size 432x288 with 1 Axes>"
      ]
     },
     "metadata": {
      "needs_background": "light"
     },
     "output_type": "display_data"
    }
   ],
   "source": [
    "sns.regplot(x=data['rank'],y=data['duration_ms'])"
   ]
  },
  {
   "cell_type": "code",
   "execution_count": 14,
   "metadata": {},
   "outputs": [
    {
     "data": {
      "text/plain": [
       "<matplotlib.axes._subplots.AxesSubplot at 0x7f74d15df0f0>"
      ]
     },
     "execution_count": 14,
     "metadata": {},
     "output_type": "execute_result"
    },
    {
     "data": {
      "image/png": "[encoded data removed]",
      "text/plain": [
       "<Figure size 432x288 with 1 Axes>"
      ]
     },
     "metadata": {
      "needs_background": "light"
     },
     "output_type": "display_data"
    }
   ],
   "source": [
    "sns.regplot(x=data['year'],y=data['acousticness'])"
   ]
  },
  {
   "cell_type": "code",
   "execution_count": 15,
   "metadata": {},
   "outputs": [
    {
     "data": {
      "text/plain": [
       "<matplotlib.axes._subplots.AxesSubplot at 0x7f74d15b1e80>"
      ]
     },
     "execution_count": 15,
     "metadata": {},
     "output_type": "execute_result"
    },
    {
     "data": {
      "image/png": "[encoded data removed]",
      "text/plain": [
       "<Figure size 432x288 with 1 Axes>"
      ]
     },
     "metadata": {
      "needs_background": "light"
     },
     "output_type": "display_data"
    }
   ],
   "source": [
    "sns.regplot(x=data['year'],y=data['speechiness'])"
   ]
  },
  {
   "cell_type": "code",
   "execution_count": 16,
   "metadata": {},
   "outputs": [
    {
     "data": {
      "text/html": [
       "<div>\n",
       "<style scoped>\n",
       "    .dataframe tbody tr th:only-of-type {\n",
       "        vertical-align: middle;\n",
       "    }\n",
       "\n",
       "    .dataframe tbody tr th {\n",
       "        vertical-align: top;\n",
       "    }\n",
       "\n",
       "    .dataframe thead th {\n",
       "        text-align: right;\n",
       "    }\n",
       "</style>\n",
       "<table border=\"1\" class=\"dataframe\">\n",
       "  <thead>\n",
       "    <tr style=\"text-align: right;\">\n",
       "      <th></th>\n",
       "      <th>year</th>\n",
       "      <th>rank</th>\n",
       "      <th>danceability</th>\n",
       "      <th>energy</th>\n",
       "      <th>key</th>\n",
       "      <th>loudness</th>\n",
       "      <th>mode</th>\n",
       "      <th>speechiness</th>\n",
       "      <th>acousticness</th>\n",
       "      <th>instrumentalness</th>\n",
       "      <th>liveness</th>\n",
       "      <th>valence</th>\n",
       "      <th>tempo</th>\n",
       "      <th>duration_ms</th>\n",
       "      <th>time_signature</th>\n",
       "    </tr>\n",
       "  </thead>\n",
       "  <tbody>\n",
       "    <tr>\n",
       "      <th>0</th>\n",
       "      <td>1971</td>\n",
       "      <td>50.918367</td>\n",
       "      <td>0.585490</td>\n",
       "      <td>0.585415</td>\n",
       "      <td>4.806122</td>\n",
       "      <td>-9.695684</td>\n",
       "      <td>0.714286</td>\n",
       "      <td>0.064344</td>\n",
       "      <td>0.331709</td>\n",
       "      <td>0.035202</td>\n",
       "      <td>0.156188</td>\n",
       "      <td>0.656673</td>\n",
       "      <td>116.031173</td>\n",
       "      <td>206402.479592</td>\n",
       "      <td>3.94898</td>\n",
       "    </tr>\n",
       "    <tr>\n",
       "      <th>1</th>\n",
       "      <td>1972</td>\n",
       "      <td>50.500000</td>\n",
       "      <td>0.587790</td>\n",
       "      <td>0.548344</td>\n",
       "      <td>5.200000</td>\n",
       "      <td>-9.702650</td>\n",
       "      <td>0.740000</td>\n",
       "      <td>0.066357</td>\n",
       "      <td>0.401229</td>\n",
       "      <td>0.038205</td>\n",
       "      <td>0.182693</td>\n",
       "      <td>0.627022</td>\n",
       "      <td>121.754910</td>\n",
       "      <td>216849.780000</td>\n",
       "      <td>3.94000</td>\n",
       "    </tr>\n",
       "    <tr>\n",
       "      <th>2</th>\n",
       "      <td>1973</td>\n",
       "      <td>50.500000</td>\n",
       "      <td>0.600591</td>\n",
       "      <td>0.576703</td>\n",
       "      <td>5.280000</td>\n",
       "      <td>-10.017580</td>\n",
       "      <td>0.700000</td>\n",
       "      <td>0.061200</td>\n",
       "      <td>0.343584</td>\n",
       "      <td>0.057322</td>\n",
       "      <td>0.174489</td>\n",
       "      <td>0.676807</td>\n",
       "      <td>121.062880</td>\n",
       "      <td>230446.630000</td>\n",
       "      <td>3.95000</td>\n",
       "    </tr>\n",
       "    <tr>\n",
       "      <th>3</th>\n",
       "      <td>1974</td>\n",
       "      <td>50.500000</td>\n",
       "      <td>0.590550</td>\n",
       "      <td>0.593680</td>\n",
       "      <td>5.120000</td>\n",
       "      <td>-9.403870</td>\n",
       "      <td>0.830000</td>\n",
       "      <td>0.062343</td>\n",
       "      <td>0.348557</td>\n",
       "      <td>0.016483</td>\n",
       "      <td>0.195966</td>\n",
       "      <td>0.602665</td>\n",
       "      <td>116.840310</td>\n",
       "      <td>237011.880000</td>\n",
       "      <td>3.90000</td>\n",
       "    </tr>\n",
       "    <tr>\n",
       "      <th>4</th>\n",
       "      <td>1975</td>\n",
       "      <td>50.500000</td>\n",
       "      <td>0.604970</td>\n",
       "      <td>0.579202</td>\n",
       "      <td>5.250000</td>\n",
       "      <td>-9.710470</td>\n",
       "      <td>0.800000</td>\n",
       "      <td>0.059326</td>\n",
       "      <td>0.309382</td>\n",
       "      <td>0.032832</td>\n",
       "      <td>0.192812</td>\n",
       "      <td>0.624714</td>\n",
       "      <td>113.982830</td>\n",
       "      <td>229086.440000</td>\n",
       "      <td>3.91000</td>\n",
       "    </tr>\n",
       "  </tbody>\n",
       "</table>\n",
       "</div>"
      ],
      "text/plain": [
       "   year       rank  danceability    energy       key   loudness      mode  \\\n",
       "0  1971  50.918367      0.585490  0.585415  4.806122  -9.695684  0.714286   \n",
       "1  1972  50.500000      0.587790  0.548344  5.200000  -9.702650  0.740000   \n",
       "2  1973  50.500000      0.600591  0.576703  5.280000 -10.017580  0.700000   \n",
       "3  1974  50.500000      0.590550  0.593680  5.120000  -9.403870  0.830000   \n",
       "4  1975  50.500000      0.604970  0.579202  5.250000  -9.710470  0.800000   \n",
       "\n",
       "   speechiness  acousticness  instrumentalness  liveness   valence  \\\n",
       "0     0.064344      0.331709          0.035202  0.156188  0.656673   \n",
       "1     0.066357      0.401229          0.038205  0.182693  0.627022   \n",
       "2     0.061200      0.343584          0.057322  0.174489  0.676807   \n",
       "3     0.062343      0.348557          0.016483  0.195966  0.602665   \n",
       "4     0.059326      0.309382          0.032832  0.192812  0.624714   \n",
       "\n",
       "        tempo    duration_ms  time_signature  \n",
       "0  116.031173  206402.479592         3.94898  \n",
       "1  121.754910  216849.780000         3.94000  \n",
       "2  121.062880  230446.630000         3.95000  \n",
       "3  116.840310  237011.880000         3.90000  \n",
       "4  113.982830  229086.440000         3.91000  "
      ]
     },
     "execution_count": 16,
     "metadata": {},
     "output_type": "execute_result"
    }
   ],
   "source": [
    "grouped = data.groupby('year',as_index = False).mean()\n",
    "grouped.head()\n"
   ]
  },
  {
   "cell_type": "code",
   "execution_count": 17,
   "metadata": {},
   "outputs": [
    {
     "data": {
      "text/plain": [
       "<matplotlib.axes._subplots.AxesSubplot at 0x7f74d15159e8>"
      ]
     },
     "execution_count": 17,
     "metadata": {},
     "output_type": "execute_result"
    },
    {
     "data": {
      "image/png": "[encoded data removed]",
      "text/plain": [
       "<Figure size 432x288 with 1 Axes>"
      ]
     },
     "metadata": {
      "needs_background": "light"
     },
     "output_type": "display_data"
    }
   ],
   "source": [
    "\n",
    "sns.regplot(x=grouped['year'] , y = grouped['speechiness'])"
   ]
  },
  {
   "cell_type": "code",
   "execution_count": 18,
   "metadata": {},
   "outputs": [
    {
     "data": {
      "text/plain": [
       "<matplotlib.axes._subplots.AxesSubplot at 0x7f74d1506160>"
      ]
     },
     "execution_count": 18,
     "metadata": {},
     "output_type": "execute_result"
    },
    {
     "data": {
      "image/png": "[encoded data removed]",
      "text/plain": [
       "<Figure size 432x288 with 1 Axes>"
      ]
     },
     "metadata": {
      "needs_background": "light"
     },
     "output_type": "display_data"
    }
   ],
   "source": [
    "sns.regplot(x=grouped['year'], y= grouped['instrumentalness'])"
   ]
  },
  {
   "cell_type": "raw",
   "metadata": {},
   "source": [
    "Song lengths continued to grow from 1970 till the 1990s where they peaked. However, in the 90s they started to decrease fast and this can be seen in popular music today. The average length of a song in the top 100 in 2019 was under 200 seconds for the first time in its history. For example, the top song of 2019 Old Town Road came in at 190 seconds and its remix was only 30 seconds longer. "
   ]
  },
  {
   "cell_type": "code",
   "execution_count": 19,
   "metadata": {},
   "outputs": [
    {
     "data": {
      "text/plain": [
       "<matplotlib.axes._subplots.AxesSubplot at 0x7f74d1468ac8>"
      ]
     },
     "execution_count": 19,
     "metadata": {},
     "output_type": "execute_result"
    },
    {
     "data": {
      "image/png": "[encoded data removed]",
      "text/plain": [
       "<Figure size 432x288 with 1 Axes>"
      ]
     },
     "metadata": {
      "needs_background": "light"
     },
     "output_type": "display_data"
    }
   ],
   "source": [
    "# The average length of a top 100 song has decreased by about 30 seconds from about 4 minutes to about 3 and a half minutes\n",
    "sns.regplot(x=grouped['year'], y = grouped['duration_ms'],order=2)"
   ]
  },
  {
   "cell_type": "code",
   "execution_count": 20,
   "metadata": {},
   "outputs": [
    {
     "data": {
      "text/html": [
       "<div>\n",
       "<style scoped>\n",
       "    .dataframe tbody tr th:only-of-type {\n",
       "        vertical-align: middle;\n",
       "    }\n",
       "\n",
       "    .dataframe tbody tr th {\n",
       "        vertical-align: top;\n",
       "    }\n",
       "\n",
       "    .dataframe thead th {\n",
       "        text-align: right;\n",
       "    }\n",
       "</style>\n",
       "<table border=\"1\" class=\"dataframe\">\n",
       "  <thead>\n",
       "    <tr style=\"text-align: right;\">\n",
       "      <th></th>\n",
       "      <th>artist</th>\n",
       "      <th>song</th>\n",
       "      <th>year</th>\n",
       "      <th>rank</th>\n",
       "      <th>danceability</th>\n",
       "      <th>energy</th>\n",
       "      <th>key</th>\n",
       "      <th>loudness</th>\n",
       "      <th>mode</th>\n",
       "      <th>speechiness</th>\n",
       "      <th>...</th>\n",
       "      <th>liveness</th>\n",
       "      <th>valence</th>\n",
       "      <th>tempo</th>\n",
       "      <th>type_feature</th>\n",
       "      <th>song_id</th>\n",
       "      <th>uri</th>\n",
       "      <th>track_href</th>\n",
       "      <th>analysis_url</th>\n",
       "      <th>duration_ms</th>\n",
       "      <th>time_signature</th>\n",
       "    </tr>\n",
       "  </thead>\n",
       "  <tbody>\n",
       "    <tr>\n",
       "      <th>1901</th>\n",
       "      <td>Wilson Phillips</td>\n",
       "      <td>\"Hold On\"</td>\n",
       "      <td>1990</td>\n",
       "      <td>1</td>\n",
       "      <td>0.691</td>\n",
       "      <td>0.602</td>\n",
       "      <td>9</td>\n",
       "      <td>-6.807</td>\n",
       "      <td>0</td>\n",
       "      <td>0.2090</td>\n",
       "      <td>...</td>\n",
       "      <td>0.0637</td>\n",
       "      <td>0.685</td>\n",
       "      <td>151.987</td>\n",
       "      <td>audio_features</td>\n",
       "      <td>5qDsijQM75KTdv3RtSPx91</td>\n",
       "      <td>spotify:track:5qDsijQM75KTdv3RtSPx91</td>\n",
       "      <td>https://api.spotify.com/v1/tracks/5qDsijQM75KT...</td>\n",
       "      <td>https://api.spotify.com/v1/audio-analysis/5qDs...</td>\n",
       "      <td>189480</td>\n",
       "      <td>4</td>\n",
       "    </tr>\n",
       "    <tr>\n",
       "      <th>2001</th>\n",
       "      <td>Bryan Adams</td>\n",
       "      <td>\"(Everything I Do) I Do It for You\"</td>\n",
       "      <td>1991</td>\n",
       "      <td>1</td>\n",
       "      <td>0.526</td>\n",
       "      <td>0.365</td>\n",
       "      <td>1</td>\n",
       "      <td>-12.605</td>\n",
       "      <td>1</td>\n",
       "      <td>0.0280</td>\n",
       "      <td>...</td>\n",
       "      <td>0.0618</td>\n",
       "      <td>0.253</td>\n",
       "      <td>131.253</td>\n",
       "      <td>audio_features</td>\n",
       "      <td>6eBK3edMW7bEzecF1eCezc</td>\n",
       "      <td>spotify:track:6eBK3edMW7bEzecF1eCezc</td>\n",
       "      <td>https://api.spotify.com/v1/tracks/6eBK3edMW7bE...</td>\n",
       "      <td>https://api.spotify.com/v1/audio-analysis/6eBK...</td>\n",
       "      <td>394133</td>\n",
       "      <td>4</td>\n",
       "    </tr>\n",
       "    <tr>\n",
       "      <th>2101</th>\n",
       "      <td>Boyz II Men</td>\n",
       "      <td>\"End of the Road\"</td>\n",
       "      <td>1992</td>\n",
       "      <td>1</td>\n",
       "      <td>0.373</td>\n",
       "      <td>0.717</td>\n",
       "      <td>1</td>\n",
       "      <td>-5.833</td>\n",
       "      <td>0</td>\n",
       "      <td>0.0830</td>\n",
       "      <td>...</td>\n",
       "      <td>0.1140</td>\n",
       "      <td>0.293</td>\n",
       "      <td>109.977</td>\n",
       "      <td>audio_features</td>\n",
       "      <td>24BNgrtp6Fag4M5BQPEgsV</td>\n",
       "      <td>spotify:track:24BNgrtp6Fag4M5BQPEgsV</td>\n",
       "      <td>https://api.spotify.com/v1/tracks/24BNgrtp6Fag...</td>\n",
       "      <td>https://api.spotify.com/v1/audio-analysis/24BN...</td>\n",
       "      <td>162981</td>\n",
       "      <td>5</td>\n",
       "    </tr>\n",
       "    <tr>\n",
       "      <th>2201</th>\n",
       "      <td>Whitney Houston</td>\n",
       "      <td>\"I Will Always Love You\"</td>\n",
       "      <td>1993</td>\n",
       "      <td>1</td>\n",
       "      <td>0.306</td>\n",
       "      <td>0.214</td>\n",
       "      <td>4</td>\n",
       "      <td>-12.518</td>\n",
       "      <td>1</td>\n",
       "      <td>0.0356</td>\n",
       "      <td>...</td>\n",
       "      <td>0.0839</td>\n",
       "      <td>0.108</td>\n",
       "      <td>66.980</td>\n",
       "      <td>audio_features</td>\n",
       "      <td>4eHbdreAnSOrDDsFfc4Fpm</td>\n",
       "      <td>spotify:track:4eHbdreAnSOrDDsFfc4Fpm</td>\n",
       "      <td>https://api.spotify.com/v1/tracks/4eHbdreAnSOr...</td>\n",
       "      <td>https://api.spotify.com/v1/audio-analysis/4eHb...</td>\n",
       "      <td>271093</td>\n",
       "      <td>4</td>\n",
       "    </tr>\n",
       "    <tr>\n",
       "      <th>2301</th>\n",
       "      <td>Ace of Base</td>\n",
       "      <td>\"The Sign\"</td>\n",
       "      <td>1994</td>\n",
       "      <td>1</td>\n",
       "      <td>0.516</td>\n",
       "      <td>0.595</td>\n",
       "      <td>5</td>\n",
       "      <td>-4.630</td>\n",
       "      <td>1</td>\n",
       "      <td>0.0313</td>\n",
       "      <td>...</td>\n",
       "      <td>0.1090</td>\n",
       "      <td>0.222</td>\n",
       "      <td>119.972</td>\n",
       "      <td>audio_features</td>\n",
       "      <td>5Ohxk2dO5COHF1krpoPigN</td>\n",
       "      <td>spotify:track:5Ohxk2dO5COHF1krpoPigN</td>\n",
       "      <td>https://api.spotify.com/v1/tracks/5Ohxk2dO5COH...</td>\n",
       "      <td>https://api.spotify.com/v1/audio-analysis/5Ohx...</td>\n",
       "      <td>340707</td>\n",
       "      <td>4</td>\n",
       "    </tr>\n",
       "  </tbody>\n",
       "</table>\n",
       "<p>5 rows × 22 columns</p>\n",
       "</div>"
      ],
      "text/plain": [
       "               artist                                 song  year  rank  \\\n",
       "1901  Wilson Phillips                            \"Hold On\"  1990     1   \n",
       "2001      Bryan Adams  \"(Everything I Do) I Do It for You\"  1991     1   \n",
       "2101      Boyz II Men                    \"End of the Road\"  1992     1   \n",
       "2201  Whitney Houston             \"I Will Always Love You\"  1993     1   \n",
       "2301      Ace of Base                           \"The Sign\"  1994     1   \n",
       "\n",
       "      danceability  energy  key  loudness  mode  speechiness  ...  liveness  \\\n",
       "1901         0.691   0.602    9    -6.807     0       0.2090  ...    0.0637   \n",
       "2001         0.526   0.365    1   -12.605     1       0.0280  ...    0.0618   \n",
       "2101         0.373   0.717    1    -5.833     0       0.0830  ...    0.1140   \n",
       "2201         0.306   0.214    4   -12.518     1       0.0356  ...    0.0839   \n",
       "2301         0.516   0.595    5    -4.630     1       0.0313  ...    0.1090   \n",
       "\n",
       "      valence    tempo    type_feature                 song_id  \\\n",
       "1901    0.685  151.987  audio_features  5qDsijQM75KTdv3RtSPx91   \n",
       "2001    0.253  131.253  audio_features  6eBK3edMW7bEzecF1eCezc   \n",
       "2101    0.293  109.977  audio_features  24BNgrtp6Fag4M5BQPEgsV   \n",
       "2201    0.108   66.980  audio_features  4eHbdreAnSOrDDsFfc4Fpm   \n",
       "2301    0.222  119.972  audio_features  5Ohxk2dO5COHF1krpoPigN   \n",
       "\n",
       "                                       uri  \\\n",
       "1901  spotify:track:5qDsijQM75KTdv3RtSPx91   \n",
       "2001  spotify:track:6eBK3edMW7bEzecF1eCezc   \n",
       "2101  spotify:track:24BNgrtp6Fag4M5BQPEgsV   \n",
       "2201  spotify:track:4eHbdreAnSOrDDsFfc4Fpm   \n",
       "2301  spotify:track:5Ohxk2dO5COHF1krpoPigN   \n",
       "\n",
       "                                             track_href  \\\n",
       "1901  https://api.spotify.com/v1/tracks/5qDsijQM75KT...   \n",
       "2001  https://api.spotify.com/v1/tracks/6eBK3edMW7bE...   \n",
       "2101  https://api.spotify.com/v1/tracks/24BNgrtp6Fag...   \n",
       "2201  https://api.spotify.com/v1/tracks/4eHbdreAnSOr...   \n",
       "2301  https://api.spotify.com/v1/tracks/5Ohxk2dO5COH...   \n",
       "\n",
       "                                           analysis_url duration_ms  \\\n",
       "1901  https://api.spotify.com/v1/audio-analysis/5qDs...      189480   \n",
       "2001  https://api.spotify.com/v1/audio-analysis/6eBK...      394133   \n",
       "2101  https://api.spotify.com/v1/audio-analysis/24BN...      162981   \n",
       "2201  https://api.spotify.com/v1/audio-analysis/4eHb...      271093   \n",
       "2301  https://api.spotify.com/v1/audio-analysis/5Ohx...      340707   \n",
       "\n",
       "     time_signature  \n",
       "1901              4  \n",
       "2001              4  \n",
       "2101              5  \n",
       "2201              4  \n",
       "2301              4  \n",
       "\n",
       "[5 rows x 22 columns]"
      ]
     },
     "execution_count": 20,
     "metadata": {},
     "output_type": "execute_result"
    }
   ],
   "source": [
    "nines = data.loc[data['year'] < 1996]\n",
    "nines = nines.loc[nines['year'] >= 1990]\n",
    "nines = nines.loc[nines['rank'] == 1]\n",
    "nines.head()"
   ]
  },
  {
   "cell_type": "code",
   "execution_count": 21,
   "metadata": {},
   "outputs": [
    {
     "data": {
      "text/plain": [
       "<matplotlib.axes._subplots.AxesSubplot at 0x7f74d13d2a58>"
      ]
     },
     "execution_count": 21,
     "metadata": {},
     "output_type": "execute_result"
    },
    {
     "data": {
      "image/png": "[encoded data removed]",
      "text/plain": [
       "<Figure size 432x288 with 1 Axes>"
      ]
     },
     "metadata": {
      "needs_background": "light"
     },
     "output_type": "display_data"
    }
   ],
   "source": [
    "sns.regplot(x=grouped['year'], y = grouped['tempo'])"
   ]
  },
  {
   "cell_type": "code",
   "execution_count": 22,
   "metadata": {},
   "outputs": [
    {
     "data": {
      "text/plain": [
       "<matplotlib.axes._subplots.AxesSubplot at 0x7f74d13c3240>"
      ]
     },
     "execution_count": 22,
     "metadata": {},
     "output_type": "execute_result"
    },
    {
     "data": {
      "image/png": "[encoded data removed]",
      "text/plain": [
       "<Figure size 432x288 with 1 Axes>"
      ]
     },
     "metadata": {
      "needs_background": "light"
     },
     "output_type": "display_data"
    }
   ],
   "source": [
    "# Songs Have been getting more dancable\n",
    "sns.regplot(x=grouped['year'], y = grouped['danceability'])"
   ]
  },
  {
   "cell_type": "code",
   "execution_count": 23,
   "metadata": {},
   "outputs": [
    {
     "data": {
      "text/html": [
       "<div>\n",
       "<style scoped>\n",
       "    .dataframe tbody tr th:only-of-type {\n",
       "        vertical-align: middle;\n",
       "    }\n",
       "\n",
       "    .dataframe tbody tr th {\n",
       "        vertical-align: top;\n",
       "    }\n",
       "\n",
       "    .dataframe thead th {\n",
       "        text-align: right;\n",
       "    }\n",
       "</style>\n",
       "<table border=\"1\" class=\"dataframe\">\n",
       "  <thead>\n",
       "    <tr style=\"text-align: right;\">\n",
       "      <th></th>\n",
       "      <th>rank</th>\n",
       "      <th>year</th>\n",
       "      <th>danceability</th>\n",
       "      <th>energy</th>\n",
       "      <th>key</th>\n",
       "      <th>loudness</th>\n",
       "      <th>mode</th>\n",
       "      <th>speechiness</th>\n",
       "      <th>acousticness</th>\n",
       "      <th>instrumentalness</th>\n",
       "      <th>liveness</th>\n",
       "      <th>valence</th>\n",
       "      <th>tempo</th>\n",
       "      <th>duration_ms</th>\n",
       "      <th>time_signature</th>\n",
       "    </tr>\n",
       "  </thead>\n",
       "  <tbody>\n",
       "    <tr>\n",
       "      <th>0</th>\n",
       "      <td>1</td>\n",
       "      <td>1994.255319</td>\n",
       "      <td>0.636660</td>\n",
       "      <td>0.592413</td>\n",
       "      <td>4.659574</td>\n",
       "      <td>-8.220851</td>\n",
       "      <td>0.787234</td>\n",
       "      <td>0.082506</td>\n",
       "      <td>0.251095</td>\n",
       "      <td>0.013259</td>\n",
       "      <td>0.171183</td>\n",
       "      <td>0.569064</td>\n",
       "      <td>117.741021</td>\n",
       "      <td>237233.446809</td>\n",
       "      <td>3.936170</td>\n",
       "    </tr>\n",
       "    <tr>\n",
       "      <th>1</th>\n",
       "      <td>2</td>\n",
       "      <td>1994.760870</td>\n",
       "      <td>0.694391</td>\n",
       "      <td>0.631267</td>\n",
       "      <td>4.695652</td>\n",
       "      <td>-7.161022</td>\n",
       "      <td>0.673913</td>\n",
       "      <td>0.067702</td>\n",
       "      <td>0.239075</td>\n",
       "      <td>0.028735</td>\n",
       "      <td>0.131620</td>\n",
       "      <td>0.637826</td>\n",
       "      <td>121.839565</td>\n",
       "      <td>236652.369565</td>\n",
       "      <td>4.000000</td>\n",
       "    </tr>\n",
       "    <tr>\n",
       "      <th>2</th>\n",
       "      <td>3</td>\n",
       "      <td>1994.255319</td>\n",
       "      <td>0.655681</td>\n",
       "      <td>0.610000</td>\n",
       "      <td>4.957447</td>\n",
       "      <td>-7.774064</td>\n",
       "      <td>0.680851</td>\n",
       "      <td>0.052511</td>\n",
       "      <td>0.259891</td>\n",
       "      <td>0.028498</td>\n",
       "      <td>0.165823</td>\n",
       "      <td>0.579674</td>\n",
       "      <td>114.048149</td>\n",
       "      <td>245526.914894</td>\n",
       "      <td>3.851064</td>\n",
       "    </tr>\n",
       "    <tr>\n",
       "      <th>3</th>\n",
       "      <td>4</td>\n",
       "      <td>1994.255319</td>\n",
       "      <td>0.666106</td>\n",
       "      <td>0.607511</td>\n",
       "      <td>4.382979</td>\n",
       "      <td>-7.993809</td>\n",
       "      <td>0.723404</td>\n",
       "      <td>0.073938</td>\n",
       "      <td>0.261921</td>\n",
       "      <td>0.030680</td>\n",
       "      <td>0.154296</td>\n",
       "      <td>0.573553</td>\n",
       "      <td>123.909298</td>\n",
       "      <td>235930.361702</td>\n",
       "      <td>3.893617</td>\n",
       "    </tr>\n",
       "    <tr>\n",
       "      <th>4</th>\n",
       "      <td>5</td>\n",
       "      <td>1994.217391</td>\n",
       "      <td>0.655870</td>\n",
       "      <td>0.660261</td>\n",
       "      <td>4.869565</td>\n",
       "      <td>-7.706130</td>\n",
       "      <td>0.608696</td>\n",
       "      <td>0.081517</td>\n",
       "      <td>0.178058</td>\n",
       "      <td>0.002683</td>\n",
       "      <td>0.190943</td>\n",
       "      <td>0.573376</td>\n",
       "      <td>117.322370</td>\n",
       "      <td>249153.217391</td>\n",
       "      <td>3.956522</td>\n",
       "    </tr>\n",
       "  </tbody>\n",
       "</table>\n",
       "</div>"
      ],
      "text/plain": [
       "   rank         year  danceability    energy       key  loudness      mode  \\\n",
       "0     1  1994.255319      0.636660  0.592413  4.659574 -8.220851  0.787234   \n",
       "1     2  1994.760870      0.694391  0.631267  4.695652 -7.161022  0.673913   \n",
       "2     3  1994.255319      0.655681  0.610000  4.957447 -7.774064  0.680851   \n",
       "3     4  1994.255319      0.666106  0.607511  4.382979 -7.993809  0.723404   \n",
       "4     5  1994.217391      0.655870  0.660261  4.869565 -7.706130  0.608696   \n",
       "\n",
       "   speechiness  acousticness  instrumentalness  liveness   valence  \\\n",
       "0     0.082506      0.251095          0.013259  0.171183  0.569064   \n",
       "1     0.067702      0.239075          0.028735  0.131620  0.637826   \n",
       "2     0.052511      0.259891          0.028498  0.165823  0.579674   \n",
       "3     0.073938      0.261921          0.030680  0.154296  0.573553   \n",
       "4     0.081517      0.178058          0.002683  0.190943  0.573376   \n",
       "\n",
       "        tempo    duration_ms  time_signature  \n",
       "0  117.741021  237233.446809        3.936170  \n",
       "1  121.839565  236652.369565        4.000000  \n",
       "2  114.048149  245526.914894        3.851064  \n",
       "3  123.909298  235930.361702        3.893617  \n",
       "4  117.322370  249153.217391        3.956522  "
      ]
     },
     "execution_count": 23,
     "metadata": {},
     "output_type": "execute_result"
    }
   ],
   "source": [
    "byRank = data.groupby('rank',as_index=False).mean()\n",
    "byRank.head()"
   ]
  },
  {
   "cell_type": "code",
   "execution_count": 24,
   "metadata": {},
   "outputs": [
    {
     "data": {
      "text/plain": [
       "<matplotlib.axes._subplots.AxesSubplot at 0x7f74d133de80>"
      ]
     },
     "execution_count": 24,
     "metadata": {},
     "output_type": "execute_result"
    },
    {
     "data": {
      "image/png": "[encoded data removed]",
      "text/plain": [
       "<Figure size 432x288 with 1 Axes>"
      ]
     },
     "metadata": {
      "needs_background": "light"
     },
     "output_type": "display_data"
    }
   ],
   "source": [
    "sns.regplot(byRank['rank'],byRank['duration_ms'])"
   ]
  },
  {
   "cell_type": "code",
   "execution_count": 25,
   "metadata": {},
   "outputs": [
    {
     "data": {
      "text/plain": [
       "<matplotlib.axes._subplots.AxesSubplot at 0x7f74d12a40b8>"
      ]
     },
     "execution_count": 25,
     "metadata": {},
     "output_type": "execute_result"
    },
    {
     "data": {
      "image/png": "[encoded data removed]",
      "text/plain": [
       "<Figure size 432x288 with 1 Axes>"
      ]
     },
     "metadata": {
      "needs_background": "light"
     },
     "output_type": "display_data"
    }
   ],
   "source": [
    "sns.regplot(byRank['rank'],byRank['tempo'])"
   ]
  },
  {
   "cell_type": "code",
   "execution_count": 26,
   "metadata": {},
   "outputs": [
    {
     "data": {
      "text/plain": [
       "<matplotlib.axes._subplots.AxesSubplot at 0x7f74d120db00>"
      ]
     },
     "execution_count": 26,
     "metadata": {},
     "output_type": "execute_result"
    },
    {
     "data": {
      "image/png": "[encoded data removed]",
      "text/plain": [
       "<Figure size 432x288 with 1 Axes>"
      ]
     },
     "metadata": {
      "needs_background": "light"
     },
     "output_type": "display_data"
    }
   ],
   "source": [
    "# Songs have been getting slowly less danceable\n",
    "sns.regplot(byRank['rank'],byRank['danceability'])"
   ]
  },
  {
   "cell_type": "code",
   "execution_count": 27,
   "metadata": {},
   "outputs": [
    {
     "data": {
      "text/plain": [
       "<matplotlib.axes._subplots.AxesSubplot at 0x7f74d11f0e80>"
      ]
     },
     "execution_count": 27,
     "metadata": {},
     "output_type": "execute_result"
    },
    {
     "data": {
      "image/png": "[encoded data removed]",
      "text/plain": [
       "<Figure size 432x288 with 1 Axes>"
      ]
     },
     "metadata": {
      "needs_background": "light"
     },
     "output_type": "display_data"
    }
   ],
   "source": [
    "sns.regplot(byRank['rank'],byRank['mode'])"
   ]
  },
  {
   "cell_type": "code",
   "execution_count": 28,
   "metadata": {},
   "outputs": [
    {
     "data": {
      "text/plain": [
       "<matplotlib.axes._subplots.AxesSubplot at 0x7f74d1158f98>"
      ]
     },
     "execution_count": 28,
     "metadata": {},
     "output_type": "execute_result"
    },
    {
     "data": {
      "image/png": "[encoded data removed]",
      "text/plain": [
       "<Figure size 432x288 with 1 Axes>"
      ]
     },
     "metadata": {
      "needs_background": "light"
     },
     "output_type": "display_data"
    }
   ],
   "source": [
    "sns.regplot(byRank['rank'],byRank['key'])"
   ]
  },
  {
   "cell_type": "code",
   "execution_count": 29,
   "metadata": {},
   "outputs": [
    {
     "data": {
      "text/plain": [
       "<matplotlib.axes._subplots.AxesSubplot at 0x7f74d1142358>"
      ]
     },
     "execution_count": 29,
     "metadata": {},
     "output_type": "execute_result"
    },
    {
     "data": {
      "image/png": "[encoded data removed]",
      "text/plain": [
       "<Figure size 432x288 with 1 Axes>"
      ]
     },
     "metadata": {
      "needs_background": "light"
     },
     "output_type": "display_data"
    }
   ],
   "source": [
    "'''\n",
    "Songs have been getting louder\n",
    "https://curiosity.com/topics/why-music-is-getting-louder-curiosity/\n",
    "'''\n",
    "\n",
    "sns.regplot(grouped['year'],grouped['loudness'])"
   ]
  },
  {
   "cell_type": "code",
   "execution_count": 30,
   "metadata": {},
   "outputs": [
    {
     "data": {
      "text/plain": [
       "<matplotlib.axes._subplots.AxesSubplot at 0x7f74d10aeef0>"
      ]
     },
     "execution_count": 30,
     "metadata": {},
     "output_type": "execute_result"
    },
    {
     "data": {
      "image/png": "[encoded data removed]",
      "text/plain": [
       "<Figure size 432x288 with 1 Axes>"
      ]
     },
     "metadata": {
      "needs_background": "light"
     },
     "output_type": "display_data"
    }
   ],
   "source": [
    "sns.regplot(grouped['year'],grouped['time_signature'])"
   ]
  },
  {
   "cell_type": "code",
   "execution_count": 31,
   "metadata": {},
   "outputs": [
    {
     "data": {
      "text/plain": [
       "<matplotlib.axes._subplots.AxesSubplot at 0x7f74d101ccc0>"
      ]
     },
     "execution_count": 31,
     "metadata": {},
     "output_type": "execute_result"
    },
    {
     "data": {
      "image/png": "[encoded data removed]",
      "text/plain": [
       "<Figure size 432x288 with 1 Axes>"
      ]
     },
     "metadata": {
      "needs_background": "light"
     },
     "output_type": "display_data"
    }
   ],
   "source": [
    "sns.regplot(byRank['rank'],byRank['time_signature'])"
   ]
  },
  {
   "cell_type": "code",
   "execution_count": 32,
   "metadata": {},
   "outputs": [
    {
     "data": {
      "text/plain": [
       "<matplotlib.axes._subplots.AxesSubplot at 0x7f74d0f8dfd0>"
      ]
     },
     "execution_count": 32,
     "metadata": {},
     "output_type": "execute_result"
    },
    {
     "data": {
      "image/png": "[encoded data removed]",
      "text/plain": [
       "<Figure size 432x288 with 1 Axes>"
      ]
     },
     "metadata": {
      "needs_background": "light"
     },
     "output_type": "display_data"
    }
   ],
   "source": [
    "# Over the years a song is more likely to be minor\n",
    "sns.regplot(grouped['year'],grouped['mode'])"
   ]
  },
  {
   "cell_type": "code",
   "execution_count": 33,
   "metadata": {
    "scrolled": true
   },
   "outputs": [
    {
     "data": {
      "text/plain": [
       "<matplotlib.axes._subplots.AxesSubplot at 0x7f74d0f792b0>"
      ]
     },
     "execution_count": 33,
     "metadata": {},
     "output_type": "execute_result"
    },
    {
     "data": {
      "image/png": "[encoded data removed]",
      "text/plain": [
       "<Figure size 432x288 with 1 Axes>"
      ]
     },
     "metadata": {
      "needs_background": "light"
     },
     "output_type": "display_data"
    }
   ],
   "source": [
    "sns.regplot(grouped['year'],grouped['key'])"
   ]
  },
  {
   "cell_type": "markdown",
   "metadata": {},
   "source": [
    "<h1><center>The Titans of Popular Music</center></h1>"
   ]
  },
  {
   "cell_type": "code",
   "execution_count": 34,
   "metadata": {},
   "outputs": [],
   "source": [
    "\n",
    "data.head()\n",
    "topArt = data['artist'].value_counts().to_frame(name='Num_Songs')\n",
    "topArt = topArt.loc[topArt['Num_Songs'] > 9]\n",
    "artID = []\n",
    "genres = []\n",
    "for i,row in topArt.iterrows():\n",
    "    result = sp.search(q=i,type='artist')\n",
    "    artID.append(result['artists']['items'][0]['id'])\n",
    "    genres.append(result['artists']['items'][0]['genres'])"
   ]
  },
  {
   "cell_type": "code",
   "execution_count": 35,
   "metadata": {},
   "outputs": [
    {
     "data": {
      "text/html": [
       "<div>\n",
       "<style scoped>\n",
       "    .dataframe tbody tr th:only-of-type {\n",
       "        vertical-align: middle;\n",
       "    }\n",
       "\n",
       "    .dataframe tbody tr th {\n",
       "        vertical-align: top;\n",
       "    }\n",
       "\n",
       "    .dataframe thead th {\n",
       "        text-align: right;\n",
       "    }\n",
       "</style>\n",
       "<table border=\"1\" class=\"dataframe\">\n",
       "  <thead>\n",
       "    <tr style=\"text-align: right;\">\n",
       "      <th></th>\n",
       "      <th>Num_Songs</th>\n",
       "      <th>artID</th>\n",
       "      <th>genres</th>\n",
       "    </tr>\n",
       "  </thead>\n",
       "  <tbody>\n",
       "    <tr>\n",
       "      <th>Madonna</th>\n",
       "      <td>35</td>\n",
       "      <td>6tbjWDEIzxoDsBA1FuhfPW</td>\n",
       "      <td>[dance pop, pop]</td>\n",
       "    </tr>\n",
       "    <tr>\n",
       "      <th>Elton John</th>\n",
       "      <td>26</td>\n",
       "      <td>3PhoLpVuITZKcymswpck5b</td>\n",
       "      <td>[glam rock, mellow gold, piano rock]</td>\n",
       "    </tr>\n",
       "    <tr>\n",
       "      <th>Janet Jackson</th>\n",
       "      <td>24</td>\n",
       "      <td>4qwGe91Bz9K2T8jXTZ815W</td>\n",
       "      <td>[dance pop, hip pop, neo soul, new jack swing,...</td>\n",
       "    </tr>\n",
       "    <tr>\n",
       "      <th>Mariah Carey</th>\n",
       "      <td>23</td>\n",
       "      <td>4iHNK0tOyZPYnBU7nGAgpQ</td>\n",
       "      <td>[dance pop, pop, r&amp;b, urban contemporary]</td>\n",
       "    </tr>\n",
       "    <tr>\n",
       "      <th>Michael Jackson</th>\n",
       "      <td>22</td>\n",
       "      <td>3fMbdgg4jU18AjLCKBhRSm</td>\n",
       "      <td>[pop, r&amp;b, soul]</td>\n",
       "    </tr>\n",
       "    <tr>\n",
       "      <th>Taylor Swift</th>\n",
       "      <td>20</td>\n",
       "      <td>06HL4z0CvFAxyc27GXpf02</td>\n",
       "      <td>[pop, post-teen pop]</td>\n",
       "    </tr>\n",
       "    <tr>\n",
       "      <th>Whitney Houston</th>\n",
       "      <td>19</td>\n",
       "      <td>6XpaIBNiVzIetEPCWDvAFP</td>\n",
       "      <td>[dance pop, pop, r&amp;b]</td>\n",
       "    </tr>\n",
       "    <tr>\n",
       "      <th>Pink</th>\n",
       "      <td>18</td>\n",
       "      <td>0k17h0D3J5VfsdmQ1iZtE9</td>\n",
       "      <td>[album rock, art rock, classic rock, progressi...</td>\n",
       "    </tr>\n",
       "    <tr>\n",
       "      <th>Hall &amp; Oates</th>\n",
       "      <td>17</td>\n",
       "      <td>77tT1kLj6mCWtFNqiOmP9H</td>\n",
       "      <td>[album rock, classic rock, mellow gold, rock, ...</td>\n",
       "    </tr>\n",
       "    <tr>\n",
       "      <th>Stevie Wonder</th>\n",
       "      <td>17</td>\n",
       "      <td>7guDJrEfX3qb6FEbdPA5qi</td>\n",
       "      <td>[adult standards, motown, quiet storm, soul]</td>\n",
       "    </tr>\n",
       "    <tr>\n",
       "      <th>Rihanna</th>\n",
       "      <td>16</td>\n",
       "      <td>5pKCCKE2ajJHZ9KAiaK11H</td>\n",
       "      <td>[barbadian pop, dance pop, pop, post-teen pop,...</td>\n",
       "    </tr>\n",
       "    <tr>\n",
       "      <th>The Black Eyed Peas</th>\n",
       "      <td>16</td>\n",
       "      <td>1yxSLGMDHlW21z4YXirZDS</td>\n",
       "      <td>[dance pop, pop, pop rap]</td>\n",
       "    </tr>\n",
       "    <tr>\n",
       "      <th>Britney Spears</th>\n",
       "      <td>16</td>\n",
       "      <td>26dSoYclwsYLMAKD3tpOr4</td>\n",
       "      <td>[dance pop, pop, post-teen pop]</td>\n",
       "    </tr>\n",
       "    <tr>\n",
       "      <th>Drake</th>\n",
       "      <td>16</td>\n",
       "      <td>3TVXtAsR1Inumwj472S9r4</td>\n",
       "      <td>[canadian hip hop, canadian pop, hip hop, pop ...</td>\n",
       "    </tr>\n",
       "    <tr>\n",
       "      <th>Kelly Clarkson</th>\n",
       "      <td>15</td>\n",
       "      <td>3BmGtnKgCSGYIUhmivXKWX</td>\n",
       "      <td>[dance pop, neo mellow, pop, pop rock, post-te...</td>\n",
       "    </tr>\n",
       "    <tr>\n",
       "      <th>Beyoncé</th>\n",
       "      <td>13</td>\n",
       "      <td>6vWDO969PvNqNYHIOW5v0m</td>\n",
       "      <td>[dance pop, pop, pop rap, r&amp;b]</td>\n",
       "    </tr>\n",
       "    <tr>\n",
       "      <th>R. Kelly</th>\n",
       "      <td>13</td>\n",
       "      <td>2mxe0TnaNL039ysAj51xPQ</td>\n",
       "      <td>[]</td>\n",
       "    </tr>\n",
       "    <tr>\n",
       "      <th>Boyz II Men</th>\n",
       "      <td>13</td>\n",
       "      <td>6O74knDqdv3XaWtkII7Xjp</td>\n",
       "      <td>[boy band, new jack swing, pop, quiet storm, r...</td>\n",
       "    </tr>\n",
       "    <tr>\n",
       "      <th>Rod Stewart</th>\n",
       "      <td>13</td>\n",
       "      <td>2y8Jo9CKhJvtfeKOsYzRdT</td>\n",
       "      <td>[adult standards, mellow gold, soft rock]</td>\n",
       "    </tr>\n",
       "    <tr>\n",
       "      <th>Phil Collins</th>\n",
       "      <td>13</td>\n",
       "      <td>4lxfqrEsLX6N1N4OCSkILp</td>\n",
       "      <td>[mellow gold, soft rock]</td>\n",
       "    </tr>\n",
       "    <tr>\n",
       "      <th>Chicago</th>\n",
       "      <td>13</td>\n",
       "      <td>3iDD7bnsjL9J4fO298r0L0</td>\n",
       "      <td>[adult standards, album rock, classic rock, fo...</td>\n",
       "    </tr>\n",
       "    <tr>\n",
       "      <th>Olivia Newton-John</th>\n",
       "      <td>12</td>\n",
       "      <td>4BoRxUdrcgbbq1rxJvvhg9</td>\n",
       "      <td>[adult standards, australian dance, bubblegum ...</td>\n",
       "    </tr>\n",
       "    <tr>\n",
       "      <th>Lionel Richie</th>\n",
       "      <td>12</td>\n",
       "      <td>3gMaNLQm7D9MornNILzdSl</td>\n",
       "      <td>[adult standards, disco, mellow gold, motown, ...</td>\n",
       "    </tr>\n",
       "    <tr>\n",
       "      <th>Kool &amp; the Gang</th>\n",
       "      <td>12</td>\n",
       "      <td>3VNITwohbvU5Wuy5PC6dsI</td>\n",
       "      <td>[disco, funk, motown, post-disco, quiet storm,...</td>\n",
       "    </tr>\n",
       "    <tr>\n",
       "      <th>Aerosmith</th>\n",
       "      <td>12</td>\n",
       "      <td>7Ey4PD4MYsKc5I2dolUwbH</td>\n",
       "      <td>[album rock, classic rock, hard rock, rock]</td>\n",
       "    </tr>\n",
       "    <tr>\n",
       "      <th>Usher</th>\n",
       "      <td>12</td>\n",
       "      <td>23zg3TcAtWQy7J6upgbUnj</td>\n",
       "      <td>[atl hip hop, dance pop, pop, pop rap, r&amp;b, ur...</td>\n",
       "    </tr>\n",
       "    <tr>\n",
       "      <th>Bee Gees</th>\n",
       "      <td>12</td>\n",
       "      <td>1LZEQNv7sE11VDY3SdxQeN</td>\n",
       "      <td>[adult standards, disco, mellow gold, soft rock]</td>\n",
       "    </tr>\n",
       "    <tr>\n",
       "      <th>Billy Joel</th>\n",
       "      <td>12</td>\n",
       "      <td>6zFYqv1mOsgBRQbae3JJ9e</td>\n",
       "      <td>[album rock, classic rock, folk rock, mellow g...</td>\n",
       "    </tr>\n",
       "    <tr>\n",
       "      <th>Bryan Adams</th>\n",
       "      <td>11</td>\n",
       "      <td>3Z02hBLubJxuFJfhacLSDc</td>\n",
       "      <td>[album rock, canadian pop, canadian singer-son...</td>\n",
       "    </tr>\n",
       "    <tr>\n",
       "      <th>Aaliyah</th>\n",
       "      <td>11</td>\n",
       "      <td>0urTpYCsixqZwgNTkPJOJ4</td>\n",
       "      <td>[dance pop, hip hop, hip pop, pop, pop rap, r&amp;...</td>\n",
       "    </tr>\n",
       "    <tr>\n",
       "      <th>Nickelback</th>\n",
       "      <td>11</td>\n",
       "      <td>6deZN1bslXzeGvOLaLMOIF</td>\n",
       "      <td>[alternative metal, canadian rock, nu metal, p...</td>\n",
       "    </tr>\n",
       "    <tr>\n",
       "      <th>Destiny's Child</th>\n",
       "      <td>11</td>\n",
       "      <td>1Y8cdNmUJH7yBTd9yOvr5i</td>\n",
       "      <td>[dance pop, girl group, hip pop, pop, pop rap,...</td>\n",
       "    </tr>\n",
       "    <tr>\n",
       "      <th>George Michael</th>\n",
       "      <td>11</td>\n",
       "      <td>19ra5tSw0tWufvUp8GotLo</td>\n",
       "      <td>[dance rock, europop, new wave pop, soft rock]</td>\n",
       "    </tr>\n",
       "    <tr>\n",
       "      <th>Barry Manilow</th>\n",
       "      <td>11</td>\n",
       "      <td>3alW3LYQS8K29z8C8NSLIX</td>\n",
       "      <td>[adult standards, bubblegum pop, disco, lounge...</td>\n",
       "    </tr>\n",
       "    <tr>\n",
       "      <th>Duran Duran</th>\n",
       "      <td>11</td>\n",
       "      <td>0lZoBs4Pzo7R89JM9lxwoT</td>\n",
       "      <td>[dance rock, new romantic, new wave, new wave ...</td>\n",
       "    </tr>\n",
       "    <tr>\n",
       "      <th>Eminem</th>\n",
       "      <td>11</td>\n",
       "      <td>7dGJo4pcD2V6oG8kP0tJRR</td>\n",
       "      <td>[detroit hip hop, g funk, hip hop, rap]</td>\n",
       "    </tr>\n",
       "    <tr>\n",
       "      <th>TLC</th>\n",
       "      <td>10</td>\n",
       "      <td>0TImkz4nPqjegtVSMZnMRq</td>\n",
       "      <td>[atl hip hop, dance pop, girl group, hip hop, ...</td>\n",
       "    </tr>\n",
       "    <tr>\n",
       "      <th>Fleetwood Mac</th>\n",
       "      <td>10</td>\n",
       "      <td>08GQAI4eElDnROBrJRGE0X</td>\n",
       "      <td>[album rock, classic rock, mellow gold, rock, ...</td>\n",
       "    </tr>\n",
       "    <tr>\n",
       "      <th>Diana Ross</th>\n",
       "      <td>10</td>\n",
       "      <td>3MdG05syQeRYPPcClLaUGl</td>\n",
       "      <td>[adult standards, disco, funk, mellow gold, mo...</td>\n",
       "    </tr>\n",
       "    <tr>\n",
       "      <th>Michael Bolton</th>\n",
       "      <td>10</td>\n",
       "      <td>6YHEMoNPbcheiWS2haGzkn</td>\n",
       "      <td>[adult standards, soft rock]</td>\n",
       "    </tr>\n",
       "    <tr>\n",
       "      <th>Bon Jovi</th>\n",
       "      <td>10</td>\n",
       "      <td>58lV9VcRSjABbAbfWS6skp</td>\n",
       "      <td>[glam metal, rock]</td>\n",
       "    </tr>\n",
       "    <tr>\n",
       "      <th>Alicia Keys</th>\n",
       "      <td>10</td>\n",
       "      <td>3DiDSECUqqY1AuBP8qtaIa</td>\n",
       "      <td>[hip pop, neo soul, pop, r&amp;b, urban contemporary]</td>\n",
       "    </tr>\n",
       "    <tr>\n",
       "      <th>Katy Perry</th>\n",
       "      <td>10</td>\n",
       "      <td>6jJ0s89eD6GaHleKKya26X</td>\n",
       "      <td>[dance pop, pop, post-teen pop]</td>\n",
       "    </tr>\n",
       "    <tr>\n",
       "      <th>Huey Lewis and the News</th>\n",
       "      <td>10</td>\n",
       "      <td>7A9yZMTrFZcgEWAX2kBfK6</td>\n",
       "      <td>[album rock, classic rock, dance rock, folk ro...</td>\n",
       "    </tr>\n",
       "    <tr>\n",
       "      <th>Richard Marx</th>\n",
       "      <td>10</td>\n",
       "      <td>0grdhNhiRLFBaFVyybqsj6</td>\n",
       "      <td>[mellow gold, new wave pop, soft rock]</td>\n",
       "    </tr>\n",
       "    <tr>\n",
       "      <th>Donna Summer</th>\n",
       "      <td>10</td>\n",
       "      <td>2eogQKWWoohI3BSnoG7E2U</td>\n",
       "      <td>[dance pop, disco, europop, hi-nrg, motown, ne...</td>\n",
       "    </tr>\n",
       "    <tr>\n",
       "      <th>Genesis</th>\n",
       "      <td>10</td>\n",
       "      <td>3CkvROUTQ6nRi9yQOcsB50</td>\n",
       "      <td>[album rock, art rock, classic rock, mellow go...</td>\n",
       "    </tr>\n",
       "  </tbody>\n",
       "</table>\n",
       "</div>"
      ],
      "text/plain": [
       "                         Num_Songs                   artID  \\\n",
       "Madonna                         35  6tbjWDEIzxoDsBA1FuhfPW   \n",
       "Elton John                      26  3PhoLpVuITZKcymswpck5b   \n",
       "Janet Jackson                   24  4qwGe91Bz9K2T8jXTZ815W   \n",
       "Mariah Carey                    23  4iHNK0tOyZPYnBU7nGAgpQ   \n",
       "Michael Jackson                 22  3fMbdgg4jU18AjLCKBhRSm   \n",
       "Taylor Swift                    20  06HL4z0CvFAxyc27GXpf02   \n",
       "Whitney Houston                 19  6XpaIBNiVzIetEPCWDvAFP   \n",
       "Pink                            18  0k17h0D3J5VfsdmQ1iZtE9   \n",
       "Hall & Oates                    17  77tT1kLj6mCWtFNqiOmP9H   \n",
       "Stevie Wonder                   17  7guDJrEfX3qb6FEbdPA5qi   \n",
       "Rihanna                         16  5pKCCKE2ajJHZ9KAiaK11H   \n",
       "The Black Eyed Peas             16  1yxSLGMDHlW21z4YXirZDS   \n",
       "Britney Spears                  16  26dSoYclwsYLMAKD3tpOr4   \n",
       "Drake                           16  3TVXtAsR1Inumwj472S9r4   \n",
       "Kelly Clarkson                  15  3BmGtnKgCSGYIUhmivXKWX   \n",
       "Beyoncé                         13  6vWDO969PvNqNYHIOW5v0m   \n",
       "R. Kelly                        13  2mxe0TnaNL039ysAj51xPQ   \n",
       "Boyz II Men                     13  6O74knDqdv3XaWtkII7Xjp   \n",
       "Rod Stewart                     13  2y8Jo9CKhJvtfeKOsYzRdT   \n",
       "Phil Collins                    13  4lxfqrEsLX6N1N4OCSkILp   \n",
       "Chicago                         13  3iDD7bnsjL9J4fO298r0L0   \n",
       "Olivia Newton-John              12  4BoRxUdrcgbbq1rxJvvhg9   \n",
       "Lionel Richie                   12  3gMaNLQm7D9MornNILzdSl   \n",
       "Kool & the Gang                 12  3VNITwohbvU5Wuy5PC6dsI   \n",
       "Aerosmith                       12  7Ey4PD4MYsKc5I2dolUwbH   \n",
       "Usher                           12  23zg3TcAtWQy7J6upgbUnj   \n",
       "Bee Gees                        12  1LZEQNv7sE11VDY3SdxQeN   \n",
       "Billy Joel                      12  6zFYqv1mOsgBRQbae3JJ9e   \n",
       "Bryan Adams                     11  3Z02hBLubJxuFJfhacLSDc   \n",
       "Aaliyah                         11  0urTpYCsixqZwgNTkPJOJ4   \n",
       "Nickelback                      11  6deZN1bslXzeGvOLaLMOIF   \n",
       "Destiny's Child                 11  1Y8cdNmUJH7yBTd9yOvr5i   \n",
       "George Michael                  11  19ra5tSw0tWufvUp8GotLo   \n",
       "Barry Manilow                   11  3alW3LYQS8K29z8C8NSLIX   \n",
       "Duran Duran                     11  0lZoBs4Pzo7R89JM9lxwoT   \n",
       "Eminem                          11  7dGJo4pcD2V6oG8kP0tJRR   \n",
       "TLC                             10  0TImkz4nPqjegtVSMZnMRq   \n",
       "Fleetwood Mac                   10  08GQAI4eElDnROBrJRGE0X   \n",
       "Diana Ross                      10  3MdG05syQeRYPPcClLaUGl   \n",
       "Michael Bolton                  10  6YHEMoNPbcheiWS2haGzkn   \n",
       "Bon Jovi                        10  58lV9VcRSjABbAbfWS6skp   \n",
       "Alicia Keys                     10  3DiDSECUqqY1AuBP8qtaIa   \n",
       "Katy Perry                      10  6jJ0s89eD6GaHleKKya26X   \n",
       "Huey Lewis and the News         10  7A9yZMTrFZcgEWAX2kBfK6   \n",
       "Richard Marx                    10  0grdhNhiRLFBaFVyybqsj6   \n",
       "Donna Summer                    10  2eogQKWWoohI3BSnoG7E2U   \n",
       "Genesis                         10  3CkvROUTQ6nRi9yQOcsB50   \n",
       "\n",
       "                                                                    genres  \n",
       "Madonna                                                   [dance pop, pop]  \n",
       "Elton John                            [glam rock, mellow gold, piano rock]  \n",
       "Janet Jackson            [dance pop, hip pop, neo soul, new jack swing,...  \n",
       "Mariah Carey                     [dance pop, pop, r&b, urban contemporary]  \n",
       "Michael Jackson                                           [pop, r&b, soul]  \n",
       "Taylor Swift                                          [pop, post-teen pop]  \n",
       "Whitney Houston                                      [dance pop, pop, r&b]  \n",
       "Pink                     [album rock, art rock, classic rock, progressi...  \n",
       "Hall & Oates             [album rock, classic rock, mellow gold, rock, ...  \n",
       "Stevie Wonder                 [adult standards, motown, quiet storm, soul]  \n",
       "Rihanna                  [barbadian pop, dance pop, pop, post-teen pop,...  \n",
       "The Black Eyed Peas                              [dance pop, pop, pop rap]  \n",
       "Britney Spears                             [dance pop, pop, post-teen pop]  \n",
       "Drake                    [canadian hip hop, canadian pop, hip hop, pop ...  \n",
       "Kelly Clarkson           [dance pop, neo mellow, pop, pop rock, post-te...  \n",
       "Beyoncé                                     [dance pop, pop, pop rap, r&b]  \n",
       "R. Kelly                                                                []  \n",
       "Boyz II Men              [boy band, new jack swing, pop, quiet storm, r...  \n",
       "Rod Stewart                      [adult standards, mellow gold, soft rock]  \n",
       "Phil Collins                                      [mellow gold, soft rock]  \n",
       "Chicago                  [adult standards, album rock, classic rock, fo...  \n",
       "Olivia Newton-John       [adult standards, australian dance, bubblegum ...  \n",
       "Lionel Richie            [adult standards, disco, mellow gold, motown, ...  \n",
       "Kool & the Gang          [disco, funk, motown, post-disco, quiet storm,...  \n",
       "Aerosmith                      [album rock, classic rock, hard rock, rock]  \n",
       "Usher                    [atl hip hop, dance pop, pop, pop rap, r&b, ur...  \n",
       "Bee Gees                  [adult standards, disco, mellow gold, soft rock]  \n",
       "Billy Joel               [album rock, classic rock, folk rock, mellow g...  \n",
       "Bryan Adams              [album rock, canadian pop, canadian singer-son...  \n",
       "Aaliyah                  [dance pop, hip hop, hip pop, pop, pop rap, r&...  \n",
       "Nickelback               [alternative metal, canadian rock, nu metal, p...  \n",
       "Destiny's Child          [dance pop, girl group, hip pop, pop, pop rap,...  \n",
       "George Michael              [dance rock, europop, new wave pop, soft rock]  \n",
       "Barry Manilow            [adult standards, bubblegum pop, disco, lounge...  \n",
       "Duran Duran              [dance rock, new romantic, new wave, new wave ...  \n",
       "Eminem                             [detroit hip hop, g funk, hip hop, rap]  \n",
       "TLC                      [atl hip hop, dance pop, girl group, hip hop, ...  \n",
       "Fleetwood Mac            [album rock, classic rock, mellow gold, rock, ...  \n",
       "Diana Ross               [adult standards, disco, funk, mellow gold, mo...  \n",
       "Michael Bolton                                [adult standards, soft rock]  \n",
       "Bon Jovi                                                [glam metal, rock]  \n",
       "Alicia Keys              [hip pop, neo soul, pop, r&b, urban contemporary]  \n",
       "Katy Perry                                 [dance pop, pop, post-teen pop]  \n",
       "Huey Lewis and the News  [album rock, classic rock, dance rock, folk ro...  \n",
       "Richard Marx                        [mellow gold, new wave pop, soft rock]  \n",
       "Donna Summer             [dance pop, disco, europop, hi-nrg, motown, ne...  \n",
       "Genesis                  [album rock, art rock, classic rock, mellow go...  "
      ]
     },
     "execution_count": 35,
     "metadata": {},
     "output_type": "execute_result"
    }
   ],
   "source": [
    "\n",
    "topArt['artID'] = artID\n",
    "topArt['genres'] = genres\n",
    "\n",
    "topArt"
   ]
  },
  {
   "cell_type": "raw",
   "metadata": {},
   "source": [
    "Here we made a word cloud to show us want type of genres the the titans of popular music are associated with. By far, the biggest are pop and soft rock which is not surprising. Pop music being popular by definition and its sound changing throughout the decades as it finds new fans. Soft rock also being easy to listen too and uniting generations."
   ]
  },
  {
   "cell_type": "code",
   "execution_count": 36,
   "metadata": {
    "scrolled": false
   },
   "outputs": [
    {
     "ename": "NameError",
     "evalue": "name 'WordCloud' is not defined",
     "output_type": "error",
     "traceback": [
      "\u001b[0;31m\u001b[0m",
      "\u001b[0;31mNameError\u001b[0mTraceback (most recent call last)",
      "\u001b[0;32m<ipython-input-36-714252ae5639>\u001b[0m in \u001b[0;36m<module>\u001b[0;34m\u001b[0m\n\u001b[1;32m      8\u001b[0m \u001b[0;34m\u001b[0m\u001b[0m\n\u001b[1;32m      9\u001b[0m \u001b[0munique_string\u001b[0m\u001b[0;34m=\u001b[0m\u001b[0;34m(\u001b[0m\u001b[0;34m\" \"\u001b[0m\u001b[0;34m)\u001b[0m\u001b[0;34m.\u001b[0m\u001b[0mjoin\u001b[0m\u001b[0;34m(\u001b[0m\u001b[0mtopGen\u001b[0m\u001b[0;34m)\u001b[0m\u001b[0;34m\u001b[0m\u001b[0;34m\u001b[0m\u001b[0m\n\u001b[0;32m---> 10\u001b[0;31m \u001b[0mwordcloud\u001b[0m \u001b[0;34m=\u001b[0m \u001b[0mWordCloud\u001b[0m\u001b[0;34m(\u001b[0m\u001b[0mwidth\u001b[0m \u001b[0;34m=\u001b[0m \u001b[0;36m1000\u001b[0m\u001b[0;34m,\u001b[0m \u001b[0mheight\u001b[0m \u001b[0;34m=\u001b[0m \u001b[0;36m500\u001b[0m\u001b[0;34m)\u001b[0m\u001b[0;34m.\u001b[0m\u001b[0mgenerate\u001b[0m\u001b[0;34m(\u001b[0m\u001b[0munique_string\u001b[0m\u001b[0;34m)\u001b[0m\u001b[0;34m\u001b[0m\u001b[0;34m\u001b[0m\u001b[0m\n\u001b[0m\u001b[1;32m     11\u001b[0m \u001b[0mplt\u001b[0m\u001b[0;34m.\u001b[0m\u001b[0mfigure\u001b[0m\u001b[0;34m(\u001b[0m\u001b[0mfigsize\u001b[0m\u001b[0;34m=\u001b[0m\u001b[0;34m(\u001b[0m\u001b[0;36m15\u001b[0m\u001b[0;34m,\u001b[0m\u001b[0;36m8\u001b[0m\u001b[0;34m)\u001b[0m\u001b[0;34m)\u001b[0m\u001b[0;34m\u001b[0m\u001b[0;34m\u001b[0m\u001b[0m\n\u001b[1;32m     12\u001b[0m \u001b[0mplt\u001b[0m\u001b[0;34m.\u001b[0m\u001b[0mimshow\u001b[0m\u001b[0;34m(\u001b[0m\u001b[0mwordcloud\u001b[0m\u001b[0;34m)\u001b[0m\u001b[0;34m\u001b[0m\u001b[0;34m\u001b[0m\u001b[0m\n",
      "\u001b[0;31mNameError\u001b[0m: name 'WordCloud' is not defined"
     ]
    }
   ],
   "source": [
    "\n",
    "topGen = []\n",
    "\n",
    "for i,row in topArt.iterrows():\n",
    "    curGen = topArt['genres']\n",
    "    for cgen in curGen:\n",
    "        for gen in cgen:\n",
    "            topGen.append(gen)\n",
    "        \n",
    "unique_string=(\" \").join(topGen)\n",
    "wordcloud = WordCloud(width = 1000, height = 500).generate(unique_string)\n",
    "plt.figure(figsize=(15,8))\n",
    "plt.imshow(wordcloud)\n",
    "plt.axis(\"off\")\n",
    "plt.savefig(\"your_file_name\"+\".png\", bbox_inches='tight')\n",
    "plt.show()\n",
    "plt.close()\n",
    "        \n"
   ]
  },
  {
   "cell_type": "code",
   "execution_count": null,
   "metadata": {},
   "outputs": [],
   "source": [
    "topSongs = []\n",
    "\n",
    "for i,row in topArt.iterrows():\n",
    "    curArt = i\n",
    "    for j,s in data.iterrows():\n",
    "        if(s['artist'] == curArt):\n",
    "            topSongs.append(s)\n",
    "#             print(s['song'])\n",
    "            \n",
    "    "
   ]
  },
  {
   "cell_type": "code",
   "execution_count": null,
   "metadata": {},
   "outputs": [],
   "source": [
    "songs = pd.DataFrame(topSongs)\n",
    "songs = songs.drop(columns=['level_0','index'])\n",
    "songs = songs.reset_index()\n",
    "songs = songs.drop('index',axis = 1)\n"
   ]
  },
  {
   "cell_type": "markdown",
   "metadata": {},
   "source": [
    "<h1><center>Madonna the leader of Billboards!</center></h1>"
   ]
  },
  {
   "cell_type": "code",
   "execution_count": null,
   "metadata": {},
   "outputs": [],
   "source": [
    "madonna = songs.loc[songs['artist'] == 'Madonna']\n",
    "sns.scatterplot(madonna['year'],madonna['rank'])"
   ]
  },
  {
   "cell_type": "code",
   "execution_count": null,
   "metadata": {},
   "outputs": [],
   "source": [
    "sns.scatterplot(madonna['year'],madonna['danceability'])"
   ]
  },
  {
   "cell_type": "code",
   "execution_count": null,
   "metadata": {},
   "outputs": [],
   "source": [
    "sns.regplot(madonna['year'],madonna['valence'])"
   ]
  },
  {
   "cell_type": "markdown",
   "metadata": {},
   "source": [
    "# Who is the Saddest and Happiest Artist?"
   ]
  },
  {
   "cell_type": "raw",
   "metadata": {},
   "source": [
    "Here we average out the top artists top 100 hits. "
   ]
  },
  {
   "cell_type": "code",
   "execution_count": null,
   "metadata": {},
   "outputs": [],
   "source": [
    "byArtist = songs.groupby('artist').mean()\n",
    "\n",
    "\n",
    "\n",
    "byArtist.head()"
   ]
  },
  {
   "cell_type": "raw",
   "metadata": {},
   "source": [
    "Mode is a feature for a song that is either 0 or 1 indicating weather a song is either major or minor. Major songs are happier and uplifting while minor songs are usually sad and more \"heavy\". For more reading on the difference between the two here is a link. https://www.musical-u.com/learn/major-minor-keys/"
   ]
  },
  {
   "cell_type": "code",
   "execution_count": null,
   "metadata": {},
   "outputs": [],
   "source": [
    "plt.figure(figsize=(16, 6))\n",
    "plt.xticks(rotation=90)\n",
    "sns.scatterplot(byArtist.index,byArtist['mode'])"
   ]
  },
  {
   "cell_type": "raw",
   "metadata": {},
   "source": [
    "Billy Joel and Huey Lewis and the News fill the world with feel good sing a long songs. Personally I have to give the edge to Billy Joel because Huey's early music was a little to new wave for my taste. \n",
    "\n",
    "Beyonce on the other hand is the Queen of sad girl music. With 80% of her most popular songs being in a minor key Beyonce is bringing the world together to cry."
   ]
  },
  {
   "cell_type": "code",
   "execution_count": null,
   "metadata": {},
   "outputs": [],
   "source": [
    "plt.figure(figsize=(16, 6))\n",
    "plt.xticks(rotation=90)\n",
    "sns.scatterplot(byArtist.index,byArtist['valence'])"
   ]
  },
  {
   "cell_type": "code",
   "execution_count": null,
   "metadata": {},
   "outputs": [],
   "source": [
    "# Lets go Crazy\n",
    "Image(\"huey.jpg\")"
   ]
  },
  {
   "cell_type": "raw",
   "metadata": {},
   "source": [
    "Spotify has their own metric of how happy a song is called valence. Valence is \"A measure from 0.0 to 1.0 describing the musical positiveness conveyed by a track. Tracks with high valence sound more positive (e.g. happy, cheerful, euphoric), while tracks with low valence sound more negative (e.g. sad, depressed, angry)\"\n",
    "\n",
    "Heuy Lewis is the king of bringing the world happy music. With almost all of their most popular songs rated as very happy with only one sad hit song. The masses of fans came to expect this sound from them with only one of their ten songs to crack the billboard top 100 being rated viewed as sad."
   ]
  },
  {
   "cell_type": "code",
   "execution_count": null,
   "metadata": {},
   "outputs": [],
   "source": [
    "huey = songs.loc[songs['artist'] == 'Huey Lewis and the News']\n",
    "sns.scatterplot(huey['valence'],huey['rank'])"
   ]
  },
  {
   "cell_type": "markdown",
   "metadata": {},
   "source": [
    "On the other hand Alicia Keys, Barry Manilow, Boyz II Men, and Nickelback are all about producing sad hits. "
   ]
  },
  {
   "cell_type": "raw",
   "metadata": {},
   "source": [
    "Barry Manilow hits the lowest lows and while he manages to break into the top 100 doesnt have as high hits as his competitors"
   ]
  },
  {
   "cell_type": "code",
   "execution_count": null,
   "metadata": {},
   "outputs": [],
   "source": [
    "art = songs.loc[songs['artist'] == 'Barry Manilow']\n",
    "sns.scatterplot(art['valence'],art['rank'])"
   ]
  },
  {
   "cell_type": "raw",
   "metadata": {},
   "source": [
    "While Nickelback is comfortably making some sad hits their most popular songs are actually their somewhat happy songs"
   ]
  },
  {
   "cell_type": "code",
   "execution_count": null,
   "metadata": {},
   "outputs": [],
   "source": [
    "art = songs.loc[songs['artist'] == 'Nickelback']\n",
    "sns.scatterplot(art['valence'],art['rank'])"
   ]
  },
  {
   "cell_type": "raw",
   "metadata": {},
   "source": [
    "Lets see if they noticed this and changed their sound. And the answer is no, Nickelback does not learn."
   ]
  },
  {
   "cell_type": "code",
   "execution_count": null,
   "metadata": {},
   "outputs": [],
   "source": [
    "sns.regplot(art['year'],art['valence'])"
   ]
  },
  {
   "cell_type": "raw",
   "metadata": {},
   "source": [
    "Alicia keys has a surpisingly large range of music for someone who averages sad songs. Her two top hit was very depressing though"
   ]
  },
  {
   "cell_type": "code",
   "execution_count": null,
   "metadata": {},
   "outputs": [],
   "source": [
    "art = songs.loc[songs['artist'] == 'Alicia Keys']\n",
    "sns.scatterplot(art['valence'],art['rank'])"
   ]
  },
  {
   "cell_type": "raw",
   "metadata": {},
   "source": [
    "Boyz II Men also have a wide range of popular music. Boyz II Men seemed to learn that their sad songs were the most popular and focused on making the best of their sad songs later in their career."
   ]
  },
  {
   "cell_type": "code",
   "execution_count": null,
   "metadata": {},
   "outputs": [],
   "source": [
    "art = songs.loc[songs['artist'] == 'Boyz II Men']\n",
    "sns.scatterplot(art['valence'],art['rank'])"
   ]
  },
  {
   "cell_type": "code",
   "execution_count": null,
   "metadata": {},
   "outputs": [],
   "source": [
    "sns.regplot(art['year'],art['valence'])"
   ]
  },
  {
   "cell_type": "markdown",
   "metadata": {},
   "source": [
    "<h1><center>When was it easiest to dominate the Billboard?</center></h1>"
   ]
  },
  {
   "cell_type": "raw",
   "metadata": {},
   "source": [
    "To answer this question we will first make a scatter plot of the number of songs to make the top 100 vs the average year a top 100 song was released for an artist. From this we can see that the leaders of the titans are concentrated in between 1985 - 1995."
   ]
  },
  {
   "cell_type": "code",
   "execution_count": null,
   "metadata": {},
   "outputs": [],
   "source": [
    "byArtist['numSongs'] = topArt['Num_Songs']\n",
    "\n",
    "sns.scatterplot(byArtist['year'],byArtist['numSongs']) \n"
   ]
  },
  {
   "cell_type": "raw",
   "metadata": {},
   "source": [
    "Next we will make a plot of the average rank of a top 100 song by an artist vs the average year a top 100 song was released by an artist. Here we can see that between 1990 - 1996, five different artists were able to consistently release songs that cracked the top 40."
   ]
  },
  {
   "cell_type": "code",
   "execution_count": null,
   "metadata": {},
   "outputs": [],
   "source": [
    "sns.scatterplot(byArtist['year'],byArtist['rank'])"
   ]
  },
  {
   "cell_type": "raw",
   "metadata": {},
   "source": [
    "This is also when song lengths hit their zenith maybe allowing to artists to fully express their creativity in length. This era also represents a cross roads in music culture outside of the top 100 with the rise of the golden age of rap and grunge mixed with the ending of dominance of hair metal bands from the 80s."
   ]
  }
 ],
 "metadata": {
  "kernelspec": {
   "display_name": "Python 3",
   "language": "python",
   "name": "python3"
  },
  "language_info": {
   "codemirror_mode": {
    "name": "ipython",
    "version": 3
   },
   "file_extension": ".py",
   "mimetype": "text/x-python",
   "name": "python",
   "nbconvert_exporter": "python",
   "pygments_lexer": "ipython3",
   "version": "3.7.3"
  }
 },
 "nbformat": 4,
 "nbformat_minor": 2
}
